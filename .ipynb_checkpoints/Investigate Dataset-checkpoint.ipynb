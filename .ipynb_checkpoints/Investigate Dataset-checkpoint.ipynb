{
 "cells": [
  {
   "cell_type": "markdown",
   "metadata": {},
   "source": [
    "## Project: Investigate a Dataset (Appointment No-Show Dataset!)\n",
    "\n",
    "### Table of Contents:\n",
    "\n",
    " <a href='#Introduction'>Introduction</a>\n",
    "\n",
    " <a href='#Assessing data'>Assessing data</a>\n",
    "\n",
    "<a href='#Data Wrangling'>Data Wrangling</a>\n",
    "\n",
    "<a href='#QUESTIONS TO BE INVESTIGATED WITH THIS DATA SET:'>QUESTIONS TO BE INVESTIGATED WITH THIS DATA SET:</a>\n",
    "\n",
    "\n",
    "<a href='#Exploratory Data Analysis'>Exploratory Data Analysis</a>\n",
    "\n",
    "<a href='#Conclusions'>Conclusions</a>"
   ]
  },
  {
   "cell_type": "markdown",
   "metadata": {},
   "source": [
    "## Introduction\n",
    "\n",
    "Using pandas to explore show_appointment.csv. This dataset show patient appointments in various neighbourhoods in Brazil and is focused on the question of whether or not patients show up for their appointment.\n",
    "\n",
    "### Assessing data :\n",
    "A number of characteristics about the patients is given in the problem statement and the csv dataset:\n",
    "\n",
    "    1. ‘ScheduledDay’ tells us on what day the patient set up their appointment.\n",
    "\n",
    "    2. ‘Neighborhood’ indicates the location of the hospital.\n",
    "\n",
    "    3. ‘Scholarship’ indicates whether or not the patient is enrolled in Brasilian welfare program Bolsa Famílies.\n",
    "\n",
    "    4.  The encoding of the last column says ‘No’ if the patient showed up to their appointment, and ‘Yes’ if they did not show up."
   ]
  },
  {
   "cell_type": "code",
   "execution_count": 17,
   "metadata": {
    "scrolled": true
   },
   "outputs": [
    {
     "data": {
      "text/html": [
       "<div>\n",
       "<style scoped>\n",
       "    .dataframe tbody tr th:only-of-type {\n",
       "        vertical-align: middle;\n",
       "    }\n",
       "\n",
       "    .dataframe tbody tr th {\n",
       "        vertical-align: top;\n",
       "    }\n",
       "\n",
       "    .dataframe thead th {\n",
       "        text-align: right;\n",
       "    }\n",
       "</style>\n",
       "<table border=\"1\" class=\"dataframe\">\n",
       "  <thead>\n",
       "    <tr style=\"text-align: right;\">\n",
       "      <th></th>\n",
       "      <th>PatientId</th>\n",
       "      <th>AppointmentID</th>\n",
       "      <th>Gender</th>\n",
       "      <th>ScheduledDay</th>\n",
       "      <th>AppointmentDay</th>\n",
       "      <th>Age</th>\n",
       "      <th>Neighbourhood</th>\n",
       "      <th>Scholarship</th>\n",
       "      <th>Hipertension</th>\n",
       "      <th>Diabetes</th>\n",
       "      <th>Alcoholism</th>\n",
       "      <th>Handcap</th>\n",
       "      <th>SMS_received</th>\n",
       "      <th>No-show</th>\n",
       "    </tr>\n",
       "  </thead>\n",
       "  <tbody>\n",
       "    <tr>\n",
       "      <th>0</th>\n",
       "      <td>2.987250e+13</td>\n",
       "      <td>5642903</td>\n",
       "      <td>F</td>\n",
       "      <td>2016-04-29T18:38:08Z</td>\n",
       "      <td>2016-04-29T00:00:00Z</td>\n",
       "      <td>62</td>\n",
       "      <td>JARDIM DA PENHA</td>\n",
       "      <td>0</td>\n",
       "      <td>1</td>\n",
       "      <td>0</td>\n",
       "      <td>0</td>\n",
       "      <td>0</td>\n",
       "      <td>0</td>\n",
       "      <td>No</td>\n",
       "    </tr>\n",
       "    <tr>\n",
       "      <th>1</th>\n",
       "      <td>5.589980e+14</td>\n",
       "      <td>5642503</td>\n",
       "      <td>M</td>\n",
       "      <td>2016-04-29T16:08:27Z</td>\n",
       "      <td>2016-04-29T00:00:00Z</td>\n",
       "      <td>56</td>\n",
       "      <td>JARDIM DA PENHA</td>\n",
       "      <td>0</td>\n",
       "      <td>0</td>\n",
       "      <td>0</td>\n",
       "      <td>0</td>\n",
       "      <td>0</td>\n",
       "      <td>0</td>\n",
       "      <td>No</td>\n",
       "    </tr>\n",
       "    <tr>\n",
       "      <th>2</th>\n",
       "      <td>4.262960e+12</td>\n",
       "      <td>5642549</td>\n",
       "      <td>F</td>\n",
       "      <td>2016-04-29T16:19:04Z</td>\n",
       "      <td>2016-04-29T00:00:00Z</td>\n",
       "      <td>62</td>\n",
       "      <td>MATA DA PRAIA</td>\n",
       "      <td>0</td>\n",
       "      <td>0</td>\n",
       "      <td>0</td>\n",
       "      <td>0</td>\n",
       "      <td>0</td>\n",
       "      <td>0</td>\n",
       "      <td>No</td>\n",
       "    </tr>\n",
       "  </tbody>\n",
       "</table>\n",
       "</div>"
      ],
      "text/plain": [
       "      PatientId  AppointmentID Gender          ScheduledDay  \\\n",
       "0  2.987250e+13        5642903      F  2016-04-29T18:38:08Z   \n",
       "1  5.589980e+14        5642503      M  2016-04-29T16:08:27Z   \n",
       "2  4.262960e+12        5642549      F  2016-04-29T16:19:04Z   \n",
       "\n",
       "         AppointmentDay  Age    Neighbourhood  Scholarship  Hipertension  \\\n",
       "0  2016-04-29T00:00:00Z   62  JARDIM DA PENHA            0             1   \n",
       "1  2016-04-29T00:00:00Z   56  JARDIM DA PENHA            0             0   \n",
       "2  2016-04-29T00:00:00Z   62    MATA DA PRAIA            0             0   \n",
       "\n",
       "   Diabetes  Alcoholism  Handcap  SMS_received No-show  \n",
       "0         0           0        0             0      No  \n",
       "1         0           0        0             0      No  \n",
       "2         0           0        0             0      No  "
      ]
     },
     "execution_count": 17,
     "metadata": {},
     "output_type": "execute_result"
    }
   ],
   "source": [
    "import pandas as pd\n",
    "import numpy as np\n",
    "import matplotlib.pyplot as plt\n",
    "import csv\n",
    "from datetime import datetime\n",
    "import seaborn as sns\n",
    "%matplotlib inline\n",
    "\n",
    "df = pd.read_csv('Show appointment.csv')\n",
    "df.head(3)"
   ]
  },
  {
   "cell_type": "markdown",
   "metadata": {},
   "source": [
    "\n",
    "## QUESTIONS TO BE INVESTIGATED WITH THIS DATA SET:\n",
    "<a href='#1. Investigate the dataset on basis of gender, find patterns. Make suggestions.'>1. Investigate the dataset on basis of gender, find patterns. Make suggestions.</a>\n",
    "\n",
    "    \n",
    "<a href='#2. To Analyzis the number of patients on the basis of the disease/problesm (Hypertension, Alchoholic, Handicapped etc). Based on neighbourhood. find patterns. Make suggestions.'>2. To Analyzis the number of patients on the basis of the disease/problesm (Hypertension, Alchoholic, Handicapped etc). Based on neighbourhood. find patterns. Make suggestions.</a>\n",
    "\n",
    "    \n",
    "  <a href='#3.  find pattern of no-show/show on the basis on scholarship field (whether or not the patient is enrolled for Brasilian welfare program Bolsa Família)? Make suggestion for conducting awareness programs for the same in particular neighbourhood.'>\n",
    "3.  find pattern of no-show/show on the basis on scholarship field (whether or not the patient is enrolled for Brasilian welfare program Bolsa Família)? Make suggestion for conducting awareness programs for the same in particular neighbourhood.\n",
    "</a>\n",
    "\n",
    "  <a href='#4. To analyse the dataset on the basis of gender and age who have missed their appointment?'>4. To analyse the dataset on the basis of gender and age who have missed their appointment?</a>\n",
    "    \n",
    "    \n",
    "    \n",
    "<a href='#5. To predict what factor do the patients mostly miss their appointment on?'>5. To predict what factor do the patients mostly miss their appointment on?</a>\n",
    "\n",
    "    \n",
    " <a href='#6. To investigate the datast based on whether Appointment sms_received by patients or not and if this affects show/no-show?'>6. To investigate the datast based on whether Appointment sms_received by patients or not and if this affects show/no-show?</a>\n",
    "   \n",
    "    \n",
    " <a href='#7. To investigate whether Handicap patient having a regular check up or appointment Sms_recieved or they missed the appointment?'>7. To investigate whether Handicap patient having a regular check up or appointment Sms_recieved or they missed the appointment?</a>\n",
    "   \n",
    "  <a href='#8. Find no. of unique patients in each neighbourhood?'>9. Find no. of unique patients in each neighbourhood?</a>\n",
    "\n",
    " <a href='#9. To analysis the data for disease trends in the sample population ?'>8. To analysis the data for disease trends in the sample population ?</a>\n",
    "       \n",
    "\n",
    "\n",
    "   "
   ]
  },
  {
   "cell_type": "markdown",
   "metadata": {},
   "source": [
    "## Data Description\n",
    "\n",
    "Number of sample and columns in dataset:\n",
    "Total no patient and appointment:110527\n",
    "Total columns:14\n"
   ]
  },
  {
   "cell_type": "code",
   "execution_count": 18,
   "metadata": {
    "scrolled": true
   },
   "outputs": [
    {
     "data": {
      "text/plain": [
       "(110527, 14)"
      ]
     },
     "execution_count": 18,
     "metadata": {},
     "output_type": "execute_result"
    }
   ],
   "source": [
    "df.shape"
   ]
  },
  {
   "cell_type": "code",
   "execution_count": 19,
   "metadata": {},
   "outputs": [
    {
     "name": "stdout",
     "output_type": "stream",
     "text": [
      "<class 'pandas.core.frame.DataFrame'>\n",
      "RangeIndex: 110527 entries, 0 to 110526\n",
      "Data columns (total 14 columns):\n",
      "PatientId         110527 non-null float64\n",
      "AppointmentID     110527 non-null int64\n",
      "Gender            110527 non-null object\n",
      "ScheduledDay      110527 non-null object\n",
      "AppointmentDay    110527 non-null object\n",
      "Age               110527 non-null int64\n",
      "Neighbourhood     110527 non-null object\n",
      "Scholarship       110527 non-null int64\n",
      "Hipertension      110527 non-null int64\n",
      "Diabetes          110527 non-null int64\n",
      "Alcoholism        110527 non-null int64\n",
      "Handcap           110527 non-null int64\n",
      "SMS_received      110527 non-null int64\n",
      "No-show           110527 non-null object\n",
      "dtypes: float64(1), int64(8), object(5)\n",
      "memory usage: 11.8+ MB\n"
     ]
    }
   ],
   "source": [
    "df.info()"
   ]
  },
  {
   "cell_type": "code",
   "execution_count": 20,
   "metadata": {},
   "outputs": [
    {
     "data": {
      "text/html": [
       "<div>\n",
       "<style scoped>\n",
       "    .dataframe tbody tr th:only-of-type {\n",
       "        vertical-align: middle;\n",
       "    }\n",
       "\n",
       "    .dataframe tbody tr th {\n",
       "        vertical-align: top;\n",
       "    }\n",
       "\n",
       "    .dataframe thead th {\n",
       "        text-align: right;\n",
       "    }\n",
       "</style>\n",
       "<table border=\"1\" class=\"dataframe\">\n",
       "  <thead>\n",
       "    <tr style=\"text-align: right;\">\n",
       "      <th></th>\n",
       "      <th>PatientId</th>\n",
       "      <th>AppointmentID</th>\n",
       "      <th>Age</th>\n",
       "      <th>Scholarship</th>\n",
       "      <th>Hipertension</th>\n",
       "      <th>Diabetes</th>\n",
       "      <th>Alcoholism</th>\n",
       "      <th>Handcap</th>\n",
       "      <th>SMS_received</th>\n",
       "    </tr>\n",
       "  </thead>\n",
       "  <tbody>\n",
       "    <tr>\n",
       "      <th>count</th>\n",
       "      <td>1.105270e+05</td>\n",
       "      <td>1.105270e+05</td>\n",
       "      <td>110527.000000</td>\n",
       "      <td>110527.000000</td>\n",
       "      <td>110527.000000</td>\n",
       "      <td>110527.000000</td>\n",
       "      <td>110527.000000</td>\n",
       "      <td>110527.000000</td>\n",
       "      <td>110527.000000</td>\n",
       "    </tr>\n",
       "    <tr>\n",
       "      <th>mean</th>\n",
       "      <td>1.474963e+14</td>\n",
       "      <td>5.675305e+06</td>\n",
       "      <td>37.088874</td>\n",
       "      <td>0.098266</td>\n",
       "      <td>0.197246</td>\n",
       "      <td>0.071865</td>\n",
       "      <td>0.030400</td>\n",
       "      <td>0.022248</td>\n",
       "      <td>0.321026</td>\n",
       "    </tr>\n",
       "    <tr>\n",
       "      <th>std</th>\n",
       "      <td>2.560949e+14</td>\n",
       "      <td>7.129575e+04</td>\n",
       "      <td>23.110205</td>\n",
       "      <td>0.297675</td>\n",
       "      <td>0.397921</td>\n",
       "      <td>0.258265</td>\n",
       "      <td>0.171686</td>\n",
       "      <td>0.161543</td>\n",
       "      <td>0.466873</td>\n",
       "    </tr>\n",
       "    <tr>\n",
       "      <th>min</th>\n",
       "      <td>3.920000e+04</td>\n",
       "      <td>5.030230e+06</td>\n",
       "      <td>-1.000000</td>\n",
       "      <td>0.000000</td>\n",
       "      <td>0.000000</td>\n",
       "      <td>0.000000</td>\n",
       "      <td>0.000000</td>\n",
       "      <td>0.000000</td>\n",
       "      <td>0.000000</td>\n",
       "    </tr>\n",
       "    <tr>\n",
       "      <th>25%</th>\n",
       "      <td>4.172615e+12</td>\n",
       "      <td>5.640286e+06</td>\n",
       "      <td>18.000000</td>\n",
       "      <td>0.000000</td>\n",
       "      <td>0.000000</td>\n",
       "      <td>0.000000</td>\n",
       "      <td>0.000000</td>\n",
       "      <td>0.000000</td>\n",
       "      <td>0.000000</td>\n",
       "    </tr>\n",
       "    <tr>\n",
       "      <th>50%</th>\n",
       "      <td>3.173180e+13</td>\n",
       "      <td>5.680573e+06</td>\n",
       "      <td>37.000000</td>\n",
       "      <td>0.000000</td>\n",
       "      <td>0.000000</td>\n",
       "      <td>0.000000</td>\n",
       "      <td>0.000000</td>\n",
       "      <td>0.000000</td>\n",
       "      <td>0.000000</td>\n",
       "    </tr>\n",
       "    <tr>\n",
       "      <th>75%</th>\n",
       "      <td>9.439170e+13</td>\n",
       "      <td>5.725524e+06</td>\n",
       "      <td>55.000000</td>\n",
       "      <td>0.000000</td>\n",
       "      <td>0.000000</td>\n",
       "      <td>0.000000</td>\n",
       "      <td>0.000000</td>\n",
       "      <td>0.000000</td>\n",
       "      <td>1.000000</td>\n",
       "    </tr>\n",
       "    <tr>\n",
       "      <th>max</th>\n",
       "      <td>9.999820e+14</td>\n",
       "      <td>5.790484e+06</td>\n",
       "      <td>115.000000</td>\n",
       "      <td>1.000000</td>\n",
       "      <td>1.000000</td>\n",
       "      <td>1.000000</td>\n",
       "      <td>1.000000</td>\n",
       "      <td>4.000000</td>\n",
       "      <td>1.000000</td>\n",
       "    </tr>\n",
       "  </tbody>\n",
       "</table>\n",
       "</div>"
      ],
      "text/plain": [
       "          PatientId  AppointmentID            Age    Scholarship  \\\n",
       "count  1.105270e+05   1.105270e+05  110527.000000  110527.000000   \n",
       "mean   1.474963e+14   5.675305e+06      37.088874       0.098266   \n",
       "std    2.560949e+14   7.129575e+04      23.110205       0.297675   \n",
       "min    3.920000e+04   5.030230e+06      -1.000000       0.000000   \n",
       "25%    4.172615e+12   5.640286e+06      18.000000       0.000000   \n",
       "50%    3.173180e+13   5.680573e+06      37.000000       0.000000   \n",
       "75%    9.439170e+13   5.725524e+06      55.000000       0.000000   \n",
       "max    9.999820e+14   5.790484e+06     115.000000       1.000000   \n",
       "\n",
       "        Hipertension       Diabetes     Alcoholism        Handcap  \\\n",
       "count  110527.000000  110527.000000  110527.000000  110527.000000   \n",
       "mean        0.197246       0.071865       0.030400       0.022248   \n",
       "std         0.397921       0.258265       0.171686       0.161543   \n",
       "min         0.000000       0.000000       0.000000       0.000000   \n",
       "25%         0.000000       0.000000       0.000000       0.000000   \n",
       "50%         0.000000       0.000000       0.000000       0.000000   \n",
       "75%         0.000000       0.000000       0.000000       0.000000   \n",
       "max         1.000000       1.000000       1.000000       4.000000   \n",
       "\n",
       "        SMS_received  \n",
       "count  110527.000000  \n",
       "mean        0.321026  \n",
       "std         0.466873  \n",
       "min         0.000000  \n",
       "25%         0.000000  \n",
       "50%         0.000000  \n",
       "75%         1.000000  \n",
       "max         1.000000  "
      ]
     },
     "execution_count": 20,
     "metadata": {},
     "output_type": "execute_result"
    }
   ],
   "source": [
    "df.describe()"
   ]
  },
  {
   "cell_type": "code",
   "execution_count": 21,
   "metadata": {
    "scrolled": true
   },
   "outputs": [
    {
     "data": {
      "image/png": "[encoded data removed]",
      "text/plain": [
       "<Figure size 720x576 with 9 Axes>"
      ]
     },
     "metadata": {
      "needs_background": "light"
     },
     "output_type": "display_data"
    }
   ],
   "source": [
    "df.hist(figsize =(10,8),alpha =0.5);"
   ]
  },
  {
   "cell_type": "markdown",
   "metadata": {},
   "source": [
    "###  Data Wrangling\n",
    "    1. Total number of sample in dataset\n",
    "    \n",
    "    2. Number of columns in dataset\n",
    "    \n",
    "    3. Duplicate rows in dataset\n",
    "    \n",
    "    4. Datatypes of columns\n",
    "    \n",
    "    5. Features with missing values\n",
    "    \n",
    "    6. Number of non-null unique values.\n",
    "    "
   ]
  },
  {
   "cell_type": "markdown",
   "metadata": {},
   "source": [
    "#### Duplicate in dataset"
   ]
  },
  {
   "cell_type": "code",
   "execution_count": 22,
   "metadata": {},
   "outputs": [
    {
     "data": {
      "text/plain": [
       "0         False\n",
       "1         False\n",
       "2         False\n",
       "3         False\n",
       "4         False\n",
       "5         False\n",
       "6         False\n",
       "7         False\n",
       "8         False\n",
       "9         False\n",
       "10        False\n",
       "11        False\n",
       "12        False\n",
       "13        False\n",
       "14        False\n",
       "15        False\n",
       "16        False\n",
       "17        False\n",
       "18        False\n",
       "19        False\n",
       "20        False\n",
       "21        False\n",
       "22        False\n",
       "23        False\n",
       "24        False\n",
       "25        False\n",
       "26        False\n",
       "27        False\n",
       "28        False\n",
       "29        False\n",
       "          ...  \n",
       "110497    False\n",
       "110498    False\n",
       "110499    False\n",
       "110500    False\n",
       "110501    False\n",
       "110502    False\n",
       "110503    False\n",
       "110504    False\n",
       "110505    False\n",
       "110506    False\n",
       "110507    False\n",
       "110508    False\n",
       "110509    False\n",
       "110510    False\n",
       "110511    False\n",
       "110512    False\n",
       "110513    False\n",
       "110514    False\n",
       "110515    False\n",
       "110516    False\n",
       "110517    False\n",
       "110518    False\n",
       "110519    False\n",
       "110520    False\n",
       "110521    False\n",
       "110522    False\n",
       "110523    False\n",
       "110524    False\n",
       "110525    False\n",
       "110526    False\n",
       "Length: 110527, dtype: bool"
      ]
     },
     "execution_count": 22,
     "metadata": {},
     "output_type": "execute_result"
    }
   ],
   "source": [
    "df.duplicated()"
   ]
  },
  {
   "cell_type": "code",
   "execution_count": 23,
   "metadata": {},
   "outputs": [
    {
     "data": {
      "text/plain": [
       "0"
      ]
     },
     "execution_count": 23,
     "metadata": {},
     "output_type": "execute_result"
    }
   ],
   "source": [
    "sum(df.duplicated())"
   ]
  },
  {
   "cell_type": "markdown",
   "metadata": {},
   "source": [
    "#### Datatype of columns"
   ]
  },
  {
   "cell_type": "code",
   "execution_count": 24,
   "metadata": {
    "scrolled": false
   },
   "outputs": [
    {
     "data": {
      "text/plain": [
       "PatientId         float64\n",
       "AppointmentID       int64\n",
       "Gender             object\n",
       "ScheduledDay       object\n",
       "AppointmentDay     object\n",
       "Age                 int64\n",
       "Neighbourhood      object\n",
       "Scholarship         int64\n",
       "Hipertension        int64\n",
       "Diabetes            int64\n",
       "Alcoholism          int64\n",
       "Handcap             int64\n",
       "SMS_received        int64\n",
       "No-show            object\n",
       "dtype: object"
      ]
     },
     "execution_count": 24,
     "metadata": {},
     "output_type": "execute_result"
    }
   ],
   "source": [
    "df.dtypes"
   ]
  },
  {
   "cell_type": "markdown",
   "metadata": {},
   "source": [
    "#### Features with missing values in  dataset"
   ]
  },
  {
   "cell_type": "code",
   "execution_count": 25,
   "metadata": {
    "scrolled": true
   },
   "outputs": [
    {
     "data": {
      "text/plain": [
       "PatientId         0\n",
       "AppointmentID     0\n",
       "Gender            0\n",
       "ScheduledDay      0\n",
       "AppointmentDay    0\n",
       "Age               0\n",
       "Neighbourhood     0\n",
       "Scholarship       0\n",
       "Hipertension      0\n",
       "Diabetes          0\n",
       "Alcoholism        0\n",
       "Handcap           0\n",
       "SMS_received      0\n",
       "No-show           0\n",
       "dtype: int64"
      ]
     },
     "execution_count": 25,
     "metadata": {},
     "output_type": "execute_result"
    }
   ],
   "source": [
    "df.isnull().sum()"
   ]
  },
  {
   "cell_type": "markdown",
   "metadata": {},
   "source": [
    "#### Number of unique values in dataset"
   ]
  },
  {
   "cell_type": "code",
   "execution_count": 26,
   "metadata": {
    "scrolled": true
   },
   "outputs": [
    {
     "data": {
      "text/plain": [
       "PatientId          61744\n",
       "AppointmentID     110527\n",
       "Gender                 2\n",
       "ScheduledDay      103549\n",
       "AppointmentDay        27\n",
       "Age                  104\n",
       "Neighbourhood         81\n",
       "Scholarship            2\n",
       "Hipertension           2\n",
       "Diabetes               2\n",
       "Alcoholism             2\n",
       "Handcap                5\n",
       "SMS_received           2\n",
       "No-show                2\n",
       "dtype: int64"
      ]
     },
     "execution_count": 26,
     "metadata": {},
     "output_type": "execute_result"
    }
   ],
   "source": [
    "df.nunique()"
   ]
  },
  {
   "cell_type": "code",
   "execution_count": 27,
   "metadata": {},
   "outputs": [],
   "source": [
    "#df.fillna(df.mean(), inplace=True)\n",
    "#df.info()"
   ]
  },
  {
   "cell_type": "markdown",
   "metadata": {},
   "source": [
    "#### Appointment delay calculation"
   ]
  },
  {
   "cell_type": "code",
   "execution_count": 28,
   "metadata": {
    "scrolled": false
   },
   "outputs": [
    {
     "data": {
      "text/plain": [
       "count    110527.000000\n",
       "mean          9.714284\n",
       "std          15.244073\n",
       "min          -6.575926\n",
       "25%          -0.346163\n",
       "50%           3.473819\n",
       "75%          14.320538\n",
       "max         178.554873\n",
       "Name: AppointmentDayDelay, dtype: float64"
      ]
     },
     "execution_count": 28,
     "metadata": {},
     "output_type": "execute_result"
    }
   ],
   "source": [
    "df[\"ScheduledDay\"] = pd.to_datetime(df[\"ScheduledDay\"])\n",
    "df[\"AppointmentDay\"] = pd.to_datetime(df[\"AppointmentDay\"])\n",
    "df['AppointmentDayDelay'] = (df['AppointmentDay'] - df['ScheduledDay'])\n",
    "df[\"AppointmentDayDelay\"] = df[\"AppointmentDayDelay\"]/np.timedelta64(1,'D')\n",
    "df[\"AppointmentDayDelay\"].describe()"
   ]
  },
  {
   "cell_type": "code",
   "execution_count": 29,
   "metadata": {
    "scrolled": true
   },
   "outputs": [
    {
     "data": {
      "text/html": [
       "<div>\n",
       "<style scoped>\n",
       "    .dataframe tbody tr th:only-of-type {\n",
       "        vertical-align: middle;\n",
       "    }\n",
       "\n",
       "    .dataframe tbody tr th {\n",
       "        vertical-align: top;\n",
       "    }\n",
       "\n",
       "    .dataframe thead th {\n",
       "        text-align: right;\n",
       "    }\n",
       "</style>\n",
       "<table border=\"1\" class=\"dataframe\">\n",
       "  <thead>\n",
       "    <tr style=\"text-align: right;\">\n",
       "      <th></th>\n",
       "      <th>PatientId</th>\n",
       "      <th>AppointmentID</th>\n",
       "      <th>Gender</th>\n",
       "      <th>ScheduledDay</th>\n",
       "      <th>AppointmentDay</th>\n",
       "      <th>Age</th>\n",
       "      <th>Neighbourhood</th>\n",
       "      <th>Scholarship</th>\n",
       "      <th>Hipertension</th>\n",
       "      <th>Diabetes</th>\n",
       "      <th>Alcoholism</th>\n",
       "      <th>Handcap</th>\n",
       "      <th>SMS_received</th>\n",
       "      <th>No-show</th>\n",
       "      <th>AppointmentDayDelay</th>\n",
       "    </tr>\n",
       "  </thead>\n",
       "  <tbody>\n",
       "    <tr>\n",
       "      <th>0</th>\n",
       "      <td>2.987250e+13</td>\n",
       "      <td>5642903</td>\n",
       "      <td>F</td>\n",
       "      <td>2016-04-29 18:38:08+00:00</td>\n",
       "      <td>2016-04-29 00:00:00+00:00</td>\n",
       "      <td>62</td>\n",
       "      <td>JARDIM DA PENHA</td>\n",
       "      <td>0</td>\n",
       "      <td>1</td>\n",
       "      <td>0</td>\n",
       "      <td>0</td>\n",
       "      <td>0</td>\n",
       "      <td>0</td>\n",
       "      <td>No</td>\n",
       "      <td>-0.776481</td>\n",
       "    </tr>\n",
       "  </tbody>\n",
       "</table>\n",
       "</div>"
      ],
      "text/plain": [
       "      PatientId  AppointmentID Gender              ScheduledDay  \\\n",
       "0  2.987250e+13        5642903      F 2016-04-29 18:38:08+00:00   \n",
       "\n",
       "             AppointmentDay  Age    Neighbourhood  Scholarship  Hipertension  \\\n",
       "0 2016-04-29 00:00:00+00:00   62  JARDIM DA PENHA            0             1   \n",
       "\n",
       "   Diabetes  Alcoholism  Handcap  SMS_received No-show  AppointmentDayDelay  \n",
       "0         0           0        0             0      No            -0.776481  "
      ]
     },
     "execution_count": 29,
     "metadata": {},
     "output_type": "execute_result"
    }
   ],
   "source": [
    "df.head(1)"
   ]
  },
  {
   "cell_type": "code",
   "execution_count": 30,
   "metadata": {},
   "outputs": [],
   "source": [
    "#df['no-show-number'] = df['no-show'].map({'Yes': 1, 'No': 0})\n",
    "#df.groupby(['appointmentdaydelay', 'no-show'])[\"no-show-number\"]"
   ]
  },
  {
   "cell_type": "markdown",
   "metadata": {},
   "source": [
    "> Mean of the delay between scheduled and actual appointment is around 10 days\n",
    "> But 50% < 3.5 days\n",
    "> 75% < 14 days\n"
   ]
  },
  {
   "cell_type": "markdown",
   "metadata": {},
   "source": [
    "#### Metadata rename/cleanup"
   ]
  },
  {
   "cell_type": "code",
   "execution_count": 31,
   "metadata": {},
   "outputs": [],
   "source": [
    "df.rename(columns ={'Hipertension':'Hypertension','Handcap':'Handicap' ,'no-show':'no_show'},inplace =True)"
   ]
  },
  {
   "cell_type": "code",
   "execution_count": 32,
   "metadata": {
    "scrolled": true
   },
   "outputs": [
    {
     "data": {
      "text/html": [
       "<div>\n",
       "<style scoped>\n",
       "    .dataframe tbody tr th:only-of-type {\n",
       "        vertical-align: middle;\n",
       "    }\n",
       "\n",
       "    .dataframe tbody tr th {\n",
       "        vertical-align: top;\n",
       "    }\n",
       "\n",
       "    .dataframe thead th {\n",
       "        text-align: right;\n",
       "    }\n",
       "</style>\n",
       "<table border=\"1\" class=\"dataframe\">\n",
       "  <thead>\n",
       "    <tr style=\"text-align: right;\">\n",
       "      <th></th>\n",
       "      <th>patientid</th>\n",
       "      <th>appointmentid</th>\n",
       "      <th>gender</th>\n",
       "      <th>scheduledday</th>\n",
       "      <th>appointmentday</th>\n",
       "      <th>age</th>\n",
       "      <th>neighbourhood</th>\n",
       "      <th>scholarship</th>\n",
       "      <th>hypertension</th>\n",
       "      <th>diabetes</th>\n",
       "      <th>alcoholism</th>\n",
       "      <th>handicap</th>\n",
       "      <th>sms_received</th>\n",
       "      <th>no-show</th>\n",
       "      <th>appointmentdaydelay</th>\n",
       "    </tr>\n",
       "  </thead>\n",
       "  <tbody>\n",
       "    <tr>\n",
       "      <th>0</th>\n",
       "      <td>2.987250e+13</td>\n",
       "      <td>5642903</td>\n",
       "      <td>F</td>\n",
       "      <td>2016-04-29 18:38:08+00:00</td>\n",
       "      <td>2016-04-29 00:00:00+00:00</td>\n",
       "      <td>62</td>\n",
       "      <td>JARDIM DA PENHA</td>\n",
       "      <td>0</td>\n",
       "      <td>1</td>\n",
       "      <td>0</td>\n",
       "      <td>0</td>\n",
       "      <td>0</td>\n",
       "      <td>0</td>\n",
       "      <td>No</td>\n",
       "      <td>-0.776481</td>\n",
       "    </tr>\n",
       "  </tbody>\n",
       "</table>\n",
       "</div>"
      ],
      "text/plain": [
       "      patientid  appointmentid gender              scheduledday  \\\n",
       "0  2.987250e+13        5642903      F 2016-04-29 18:38:08+00:00   \n",
       "\n",
       "             appointmentday  age    neighbourhood  scholarship  hypertension  \\\n",
       "0 2016-04-29 00:00:00+00:00   62  JARDIM DA PENHA            0             1   \n",
       "\n",
       "   diabetes  alcoholism  handicap  sms_received no-show  appointmentdaydelay  \n",
       "0         0           0         0             0      No            -0.776481  "
      ]
     },
     "execution_count": 32,
     "metadata": {},
     "output_type": "execute_result"
    }
   ],
   "source": [
    "df.rename(columns =lambda x: x.strip().lower().replace(\" \",\"_\") ,inplace=True )\n",
    "df.head(1)"
   ]
  },
  {
   "cell_type": "markdown",
   "metadata": {},
   "source": [
    "#### Analysis on the basis of Gender"
   ]
  },
  {
   "cell_type": "code",
   "execution_count": 33,
   "metadata": {
    "scrolled": true
   },
   "outputs": [
    {
     "name": "stdout",
     "output_type": "stream",
     "text": [
      "71840\n",
      "110527\n"
     ]
    }
   ],
   "source": [
    "print (len(df[df['gender']=='F']))\n",
    "print (df.shape[0])"
   ]
  },
  {
   "cell_type": "code",
   "execution_count": 34,
   "metadata": {
    "scrolled": false
   },
   "outputs": [
    {
     "name": "stdout",
     "output_type": "stream",
     "text": [
      "38687\n",
      "110527\n"
     ]
    }
   ],
   "source": [
    "print (len(df[df['gender']=='M']))\n",
    "print (df.shape[0])"
   ]
  },
  {
   "cell_type": "code",
   "execution_count": 118,
   "metadata": {
    "scrolled": false
   },
   "outputs": [
    {
     "data": {
      "image/png": "[encoded data removed]",
      "text/plain": [
       "<Figure size 432x288 with 1 Axes>"
      ]
     },
     "metadata": {
      "needs_background": "light"
     },
     "output_type": "display_data"
    }
   ],
   "source": [
    "df['gender'].value_counts().plot(kind='bar');\n",
    "plt.title('Bar chart for number of appointments based on gender', fontsize=12)\n",
    "plt.xlabel('Gender', fontsize=8)\n",
    "plt.ylabel('Number of appointment',fontsize=8)\n",
    "plt.show()"
   ]
  },
  {
   "cell_type": "markdown",
   "metadata": {},
   "source": [
    "#### Analysis on the basis of Age"
   ]
  },
  {
   "cell_type": "code",
   "execution_count": 36,
   "metadata": {},
   "outputs": [
    {
     "data": {
      "text/plain": [
       "37.08887421173107"
      ]
     },
     "execution_count": 36,
     "metadata": {},
     "output_type": "execute_result"
    }
   ],
   "source": [
    "meanAge = df['age'].mean()\n",
    "meanAge"
   ]
  },
  {
   "cell_type": "markdown",
   "metadata": {},
   "source": [
    "> Average patient age is 37. Not considering duplicate patients."
   ]
  },
  {
   "cell_type": "code",
   "execution_count": 37,
   "metadata": {},
   "outputs": [
    {
     "data": {
      "text/plain": [
       "array([ 62,  56,   8,  76,  23,  39,  21,  19,  30,  29,  22,  28,  54,\n",
       "        15,  50,  40,  46,   4,  13,  65,  45,  51,  32,  12,  61,  38,\n",
       "        79,  18,  63,  64,  85,  59,  55,  71,  49,  78,  31,  58,  27,\n",
       "         6,   2,  11,   7,   0,   3,   1,  69,  68,  60,  67,  36,  10,\n",
       "        35,  20,  26,  34,  33,  16,  42,   5,  47,  17,  41,  44,  37,\n",
       "        24,  66,  77,  81,  70,  53,  75,  73,  52,  74,  43,  89,  57,\n",
       "        14,   9,  48,  83,  72,  25,  80,  87,  88,  84,  82,  90,  94,\n",
       "        86,  91,  98,  92,  96,  93,  95,  97, 102, 115, 100,  99,  -1],\n",
       "      dtype=int64)"
      ]
     },
     "execution_count": 37,
     "metadata": {},
     "output_type": "execute_result"
    }
   ],
   "source": [
    "df['age'].unique()"
   ]
  },
  {
   "cell_type": "code",
   "execution_count": 38,
   "metadata": {},
   "outputs": [
    {
     "data": {
      "text/html": [
       "<div>\n",
       "<style scoped>\n",
       "    .dataframe tbody tr th:only-of-type {\n",
       "        vertical-align: middle;\n",
       "    }\n",
       "\n",
       "    .dataframe tbody tr th {\n",
       "        vertical-align: top;\n",
       "    }\n",
       "\n",
       "    .dataframe thead th {\n",
       "        text-align: right;\n",
       "    }\n",
       "</style>\n",
       "<table border=\"1\" class=\"dataframe\">\n",
       "  <thead>\n",
       "    <tr style=\"text-align: right;\">\n",
       "      <th></th>\n",
       "      <th>age</th>\n",
       "      <th>gender</th>\n",
       "      <th>patientid</th>\n",
       "    </tr>\n",
       "  </thead>\n",
       "  <tbody>\n",
       "    <tr>\n",
       "      <th>58014</th>\n",
       "      <td>102</td>\n",
       "      <td>F</td>\n",
       "      <td>9.762950e+14</td>\n",
       "    </tr>\n",
       "    <tr>\n",
       "      <th>90372</th>\n",
       "      <td>102</td>\n",
       "      <td>F</td>\n",
       "      <td>2.342840e+11</td>\n",
       "    </tr>\n",
       "    <tr>\n",
       "      <th>92084</th>\n",
       "      <td>100</td>\n",
       "      <td>F</td>\n",
       "      <td>5.578310e+13</td>\n",
       "    </tr>\n",
       "    <tr>\n",
       "      <th>97666</th>\n",
       "      <td>115</td>\n",
       "      <td>F</td>\n",
       "      <td>7.482350e+14</td>\n",
       "    </tr>\n",
       "    <tr>\n",
       "      <th>108506</th>\n",
       "      <td>100</td>\n",
       "      <td>F</td>\n",
       "      <td>3.939640e+11</td>\n",
       "    </tr>\n",
       "  </tbody>\n",
       "</table>\n",
       "</div>"
      ],
      "text/plain": [
       "        age gender     patientid\n",
       "58014   102      F  9.762950e+14\n",
       "90372   102      F  2.342840e+11\n",
       "92084   100      F  5.578310e+13\n",
       "97666   115      F  7.482350e+14\n",
       "108506  100      F  3.939640e+11"
      ]
     },
     "execution_count": 38,
     "metadata": {},
     "output_type": "execute_result"
    }
   ],
   "source": [
    "age100Plus = df[df['age'] > 99]\n",
    "age100Plus[['age', 'gender','patientid']].drop_duplicates(subset =\"patientid\", keep = False) "
   ]
  },
  {
   "cell_type": "code",
   "execution_count": 41,
   "metadata": {},
   "outputs": [
    {
     "data": {
      "text/html": [
       "<div>\n",
       "<style scoped>\n",
       "    .dataframe tbody tr th:only-of-type {\n",
       "        vertical-align: middle;\n",
       "    }\n",
       "\n",
       "    .dataframe tbody tr th {\n",
       "        vertical-align: top;\n",
       "    }\n",
       "\n",
       "    .dataframe thead th {\n",
       "        text-align: right;\n",
       "    }\n",
       "</style>\n",
       "<table border=\"1\" class=\"dataframe\">\n",
       "  <thead>\n",
       "    <tr style=\"text-align: right;\">\n",
       "      <th></th>\n",
       "      <th>gender</th>\n",
       "      <th>age</th>\n",
       "      <th>count</th>\n",
       "    </tr>\n",
       "  </thead>\n",
       "  <tbody>\n",
       "    <tr>\n",
       "      <th>0</th>\n",
       "      <td>F</td>\n",
       "      <td>-1</td>\n",
       "      <td>1</td>\n",
       "    </tr>\n",
       "    <tr>\n",
       "      <th>1</th>\n",
       "      <td>F</td>\n",
       "      <td>0</td>\n",
       "      <td>506</td>\n",
       "    </tr>\n",
       "    <tr>\n",
       "      <th>2</th>\n",
       "      <td>F</td>\n",
       "      <td>1</td>\n",
       "      <td>472</td>\n",
       "    </tr>\n",
       "    <tr>\n",
       "      <th>3</th>\n",
       "      <td>F</td>\n",
       "      <td>2</td>\n",
       "      <td>364</td>\n",
       "    </tr>\n",
       "    <tr>\n",
       "      <th>4</th>\n",
       "      <td>F</td>\n",
       "      <td>3</td>\n",
       "      <td>313</td>\n",
       "    </tr>\n",
       "    <tr>\n",
       "      <th>5</th>\n",
       "      <td>F</td>\n",
       "      <td>4</td>\n",
       "      <td>263</td>\n",
       "    </tr>\n",
       "    <tr>\n",
       "      <th>6</th>\n",
       "      <td>F</td>\n",
       "      <td>5</td>\n",
       "      <td>263</td>\n",
       "    </tr>\n",
       "    <tr>\n",
       "      <th>7</th>\n",
       "      <td>F</td>\n",
       "      <td>6</td>\n",
       "      <td>274</td>\n",
       "    </tr>\n",
       "    <tr>\n",
       "      <th>8</th>\n",
       "      <td>F</td>\n",
       "      <td>7</td>\n",
       "      <td>255</td>\n",
       "    </tr>\n",
       "    <tr>\n",
       "      <th>9</th>\n",
       "      <td>F</td>\n",
       "      <td>8</td>\n",
       "      <td>263</td>\n",
       "    </tr>\n",
       "    <tr>\n",
       "      <th>10</th>\n",
       "      <td>F</td>\n",
       "      <td>9</td>\n",
       "      <td>233</td>\n",
       "    </tr>\n",
       "    <tr>\n",
       "      <th>11</th>\n",
       "      <td>F</td>\n",
       "      <td>10</td>\n",
       "      <td>222</td>\n",
       "    </tr>\n",
       "    <tr>\n",
       "      <th>12</th>\n",
       "      <td>F</td>\n",
       "      <td>11</td>\n",
       "      <td>220</td>\n",
       "    </tr>\n",
       "    <tr>\n",
       "      <th>13</th>\n",
       "      <td>F</td>\n",
       "      <td>12</td>\n",
       "      <td>203</td>\n",
       "    </tr>\n",
       "    <tr>\n",
       "      <th>14</th>\n",
       "      <td>F</td>\n",
       "      <td>13</td>\n",
       "      <td>219</td>\n",
       "    </tr>\n",
       "    <tr>\n",
       "      <th>15</th>\n",
       "      <td>F</td>\n",
       "      <td>14</td>\n",
       "      <td>212</td>\n",
       "    </tr>\n",
       "    <tr>\n",
       "      <th>16</th>\n",
       "      <td>F</td>\n",
       "      <td>15</td>\n",
       "      <td>238</td>\n",
       "    </tr>\n",
       "    <tr>\n",
       "      <th>17</th>\n",
       "      <td>F</td>\n",
       "      <td>16</td>\n",
       "      <td>286</td>\n",
       "    </tr>\n",
       "    <tr>\n",
       "      <th>18</th>\n",
       "      <td>F</td>\n",
       "      <td>17</td>\n",
       "      <td>324</td>\n",
       "    </tr>\n",
       "    <tr>\n",
       "      <th>19</th>\n",
       "      <td>F</td>\n",
       "      <td>18</td>\n",
       "      <td>322</td>\n",
       "    </tr>\n",
       "    <tr>\n",
       "      <th>20</th>\n",
       "      <td>F</td>\n",
       "      <td>19</td>\n",
       "      <td>365</td>\n",
       "    </tr>\n",
       "    <tr>\n",
       "      <th>21</th>\n",
       "      <td>F</td>\n",
       "      <td>20</td>\n",
       "      <td>297</td>\n",
       "    </tr>\n",
       "    <tr>\n",
       "      <th>22</th>\n",
       "      <td>F</td>\n",
       "      <td>21</td>\n",
       "      <td>323</td>\n",
       "    </tr>\n",
       "    <tr>\n",
       "      <th>23</th>\n",
       "      <td>F</td>\n",
       "      <td>22</td>\n",
       "      <td>307</td>\n",
       "    </tr>\n",
       "    <tr>\n",
       "      <th>24</th>\n",
       "      <td>F</td>\n",
       "      <td>23</td>\n",
       "      <td>300</td>\n",
       "    </tr>\n",
       "    <tr>\n",
       "      <th>25</th>\n",
       "      <td>F</td>\n",
       "      <td>24</td>\n",
       "      <td>285</td>\n",
       "    </tr>\n",
       "    <tr>\n",
       "      <th>26</th>\n",
       "      <td>F</td>\n",
       "      <td>25</td>\n",
       "      <td>287</td>\n",
       "    </tr>\n",
       "    <tr>\n",
       "      <th>27</th>\n",
       "      <td>F</td>\n",
       "      <td>26</td>\n",
       "      <td>279</td>\n",
       "    </tr>\n",
       "    <tr>\n",
       "      <th>28</th>\n",
       "      <td>F</td>\n",
       "      <td>27</td>\n",
       "      <td>270</td>\n",
       "    </tr>\n",
       "    <tr>\n",
       "      <th>29</th>\n",
       "      <td>F</td>\n",
       "      <td>28</td>\n",
       "      <td>290</td>\n",
       "    </tr>\n",
       "    <tr>\n",
       "      <th>...</th>\n",
       "      <td>...</td>\n",
       "      <td>...</td>\n",
       "      <td>...</td>\n",
       "    </tr>\n",
       "    <tr>\n",
       "      <th>173</th>\n",
       "      <td>M</td>\n",
       "      <td>69</td>\n",
       "      <td>91</td>\n",
       "    </tr>\n",
       "    <tr>\n",
       "      <th>174</th>\n",
       "      <td>M</td>\n",
       "      <td>70</td>\n",
       "      <td>89</td>\n",
       "    </tr>\n",
       "    <tr>\n",
       "      <th>175</th>\n",
       "      <td>M</td>\n",
       "      <td>71</td>\n",
       "      <td>81</td>\n",
       "    </tr>\n",
       "    <tr>\n",
       "      <th>176</th>\n",
       "      <td>M</td>\n",
       "      <td>72</td>\n",
       "      <td>94</td>\n",
       "    </tr>\n",
       "    <tr>\n",
       "      <th>177</th>\n",
       "      <td>M</td>\n",
       "      <td>73</td>\n",
       "      <td>98</td>\n",
       "    </tr>\n",
       "    <tr>\n",
       "      <th>178</th>\n",
       "      <td>M</td>\n",
       "      <td>74</td>\n",
       "      <td>79</td>\n",
       "    </tr>\n",
       "    <tr>\n",
       "      <th>179</th>\n",
       "      <td>M</td>\n",
       "      <td>75</td>\n",
       "      <td>75</td>\n",
       "    </tr>\n",
       "    <tr>\n",
       "      <th>180</th>\n",
       "      <td>M</td>\n",
       "      <td>76</td>\n",
       "      <td>74</td>\n",
       "    </tr>\n",
       "    <tr>\n",
       "      <th>181</th>\n",
       "      <td>M</td>\n",
       "      <td>77</td>\n",
       "      <td>72</td>\n",
       "    </tr>\n",
       "    <tr>\n",
       "      <th>182</th>\n",
       "      <td>M</td>\n",
       "      <td>78</td>\n",
       "      <td>64</td>\n",
       "    </tr>\n",
       "    <tr>\n",
       "      <th>183</th>\n",
       "      <td>M</td>\n",
       "      <td>79</td>\n",
       "      <td>49</td>\n",
       "    </tr>\n",
       "    <tr>\n",
       "      <th>184</th>\n",
       "      <td>M</td>\n",
       "      <td>80</td>\n",
       "      <td>59</td>\n",
       "    </tr>\n",
       "    <tr>\n",
       "      <th>185</th>\n",
       "      <td>M</td>\n",
       "      <td>81</td>\n",
       "      <td>61</td>\n",
       "    </tr>\n",
       "    <tr>\n",
       "      <th>186</th>\n",
       "      <td>M</td>\n",
       "      <td>82</td>\n",
       "      <td>44</td>\n",
       "    </tr>\n",
       "    <tr>\n",
       "      <th>187</th>\n",
       "      <td>M</td>\n",
       "      <td>83</td>\n",
       "      <td>42</td>\n",
       "    </tr>\n",
       "    <tr>\n",
       "      <th>188</th>\n",
       "      <td>M</td>\n",
       "      <td>84</td>\n",
       "      <td>32</td>\n",
       "    </tr>\n",
       "    <tr>\n",
       "      <th>189</th>\n",
       "      <td>M</td>\n",
       "      <td>85</td>\n",
       "      <td>31</td>\n",
       "    </tr>\n",
       "    <tr>\n",
       "      <th>190</th>\n",
       "      <td>M</td>\n",
       "      <td>86</td>\n",
       "      <td>24</td>\n",
       "    </tr>\n",
       "    <tr>\n",
       "      <th>191</th>\n",
       "      <td>M</td>\n",
       "      <td>87</td>\n",
       "      <td>16</td>\n",
       "    </tr>\n",
       "    <tr>\n",
       "      <th>192</th>\n",
       "      <td>M</td>\n",
       "      <td>88</td>\n",
       "      <td>22</td>\n",
       "    </tr>\n",
       "    <tr>\n",
       "      <th>193</th>\n",
       "      <td>M</td>\n",
       "      <td>89</td>\n",
       "      <td>20</td>\n",
       "    </tr>\n",
       "    <tr>\n",
       "      <th>194</th>\n",
       "      <td>M</td>\n",
       "      <td>90</td>\n",
       "      <td>12</td>\n",
       "    </tr>\n",
       "    <tr>\n",
       "      <th>195</th>\n",
       "      <td>M</td>\n",
       "      <td>91</td>\n",
       "      <td>8</td>\n",
       "    </tr>\n",
       "    <tr>\n",
       "      <th>196</th>\n",
       "      <td>M</td>\n",
       "      <td>92</td>\n",
       "      <td>12</td>\n",
       "    </tr>\n",
       "    <tr>\n",
       "      <th>197</th>\n",
       "      <td>M</td>\n",
       "      <td>93</td>\n",
       "      <td>5</td>\n",
       "    </tr>\n",
       "    <tr>\n",
       "      <th>198</th>\n",
       "      <td>M</td>\n",
       "      <td>94</td>\n",
       "      <td>5</td>\n",
       "    </tr>\n",
       "    <tr>\n",
       "      <th>199</th>\n",
       "      <td>M</td>\n",
       "      <td>95</td>\n",
       "      <td>2</td>\n",
       "    </tr>\n",
       "    <tr>\n",
       "      <th>200</th>\n",
       "      <td>M</td>\n",
       "      <td>96</td>\n",
       "      <td>2</td>\n",
       "    </tr>\n",
       "    <tr>\n",
       "      <th>201</th>\n",
       "      <td>M</td>\n",
       "      <td>97</td>\n",
       "      <td>2</td>\n",
       "    </tr>\n",
       "    <tr>\n",
       "      <th>202</th>\n",
       "      <td>M</td>\n",
       "      <td>98</td>\n",
       "      <td>1</td>\n",
       "    </tr>\n",
       "  </tbody>\n",
       "</table>\n",
       "<p>203 rows × 3 columns</p>\n",
       "</div>"
      ],
      "text/plain": [
       "    gender  age  count\n",
       "0        F   -1      1\n",
       "1        F    0    506\n",
       "2        F    1    472\n",
       "3        F    2    364\n",
       "4        F    3    313\n",
       "5        F    4    263\n",
       "6        F    5    263\n",
       "7        F    6    274\n",
       "8        F    7    255\n",
       "9        F    8    263\n",
       "10       F    9    233\n",
       "11       F   10    222\n",
       "12       F   11    220\n",
       "13       F   12    203\n",
       "14       F   13    219\n",
       "15       F   14    212\n",
       "16       F   15    238\n",
       "17       F   16    286\n",
       "18       F   17    324\n",
       "19       F   18    322\n",
       "20       F   19    365\n",
       "21       F   20    297\n",
       "22       F   21    323\n",
       "23       F   22    307\n",
       "24       F   23    300\n",
       "25       F   24    285\n",
       "26       F   25    287\n",
       "27       F   26    279\n",
       "28       F   27    270\n",
       "29       F   28    290\n",
       "..     ...  ...    ...\n",
       "173      M   69     91\n",
       "174      M   70     89\n",
       "175      M   71     81\n",
       "176      M   72     94\n",
       "177      M   73     98\n",
       "178      M   74     79\n",
       "179      M   75     75\n",
       "180      M   76     74\n",
       "181      M   77     72\n",
       "182      M   78     64\n",
       "183      M   79     49\n",
       "184      M   80     59\n",
       "185      M   81     61\n",
       "186      M   82     44\n",
       "187      M   83     42\n",
       "188      M   84     32\n",
       "189      M   85     31\n",
       "190      M   86     24\n",
       "191      M   87     16\n",
       "192      M   88     22\n",
       "193      M   89     20\n",
       "194      M   90     12\n",
       "195      M   91      8\n",
       "196      M   92     12\n",
       "197      M   93      5\n",
       "198      M   94      5\n",
       "199      M   95      2\n",
       "200      M   96      2\n",
       "201      M   97      2\n",
       "202      M   98      1\n",
       "\n",
       "[203 rows x 3 columns]"
      ]
     },
     "execution_count": 41,
     "metadata": {},
     "output_type": "execute_result"
    }
   ],
   "source": [
    "ageCountBygender = df.drop_duplicates(subset =\"patientid\", keep = False).groupby([\"gender\",\"age\"]).size().reset_index(name='count') \n",
    "ageCountBygender"
   ]
  },
  {
   "cell_type": "markdown",
   "metadata": {},
   "source": [
    "> Maximum number of patients from age group 0-10. Appointment trend falling from age group above 59."
   ]
  },
  {
   "cell_type": "code",
   "execution_count": 45,
   "metadata": {
    "scrolled": true
   },
   "outputs": [
    {
     "data": {
      "text/html": [
       "<div>\n",
       "<style scoped>\n",
       "    .dataframe tbody tr th:only-of-type {\n",
       "        vertical-align: middle;\n",
       "    }\n",
       "\n",
       "    .dataframe tbody tr th {\n",
       "        vertical-align: top;\n",
       "    }\n",
       "\n",
       "    .dataframe thead th {\n",
       "        text-align: right;\n",
       "    }\n",
       "</style>\n",
       "<table border=\"1\" class=\"dataframe\">\n",
       "  <thead>\n",
       "    <tr style=\"text-align: right;\">\n",
       "      <th></th>\n",
       "      <th>age</th>\n",
       "      <th>patientid</th>\n",
       "      <th>count</th>\n",
       "    </tr>\n",
       "  </thead>\n",
       "  <tbody>\n",
       "    <tr>\n",
       "      <th>count</th>\n",
       "      <td>63464.000000</td>\n",
       "      <td>6.346400e+04</td>\n",
       "      <td>63464.000000</td>\n",
       "    </tr>\n",
       "    <tr>\n",
       "      <th>mean</th>\n",
       "      <td>36.720566</td>\n",
       "      <td>1.471955e+14</td>\n",
       "      <td>1.741570</td>\n",
       "    </tr>\n",
       "    <tr>\n",
       "      <th>std</th>\n",
       "      <td>23.524615</td>\n",
       "      <td>2.548974e+14</td>\n",
       "      <td>1.709642</td>\n",
       "    </tr>\n",
       "    <tr>\n",
       "      <th>min</th>\n",
       "      <td>-1.000000</td>\n",
       "      <td>3.920000e+04</td>\n",
       "      <td>1.000000</td>\n",
       "    </tr>\n",
       "    <tr>\n",
       "      <th>25%</th>\n",
       "      <td>17.000000</td>\n",
       "      <td>4.177382e+12</td>\n",
       "      <td>1.000000</td>\n",
       "    </tr>\n",
       "    <tr>\n",
       "      <th>50%</th>\n",
       "      <td>36.000000</td>\n",
       "      <td>3.213570e+13</td>\n",
       "      <td>1.000000</td>\n",
       "    </tr>\n",
       "    <tr>\n",
       "      <th>75%</th>\n",
       "      <td>56.000000</td>\n",
       "      <td>9.484800e+13</td>\n",
       "      <td>2.000000</td>\n",
       "    </tr>\n",
       "    <tr>\n",
       "      <th>max</th>\n",
       "      <td>115.000000</td>\n",
       "      <td>9.999820e+14</td>\n",
       "      <td>88.000000</td>\n",
       "    </tr>\n",
       "  </tbody>\n",
       "</table>\n",
       "</div>"
      ],
      "text/plain": [
       "                age     patientid         count\n",
       "count  63464.000000  6.346400e+04  63464.000000\n",
       "mean      36.720566  1.471955e+14      1.741570\n",
       "std       23.524615  2.548974e+14      1.709642\n",
       "min       -1.000000  3.920000e+04      1.000000\n",
       "25%       17.000000  4.177382e+12      1.000000\n",
       "50%       36.000000  3.213570e+13      1.000000\n",
       "75%       56.000000  9.484800e+13      2.000000\n",
       "max      115.000000  9.999820e+14     88.000000"
      ]
     },
     "execution_count": 45,
     "metadata": {},
     "output_type": "execute_result"
    }
   ],
   "source": [
    "paitientAppointmentCount = df.groupby([\"gender\",\"age\", \"patientid\"]).size().reset_index(name='count')\n",
    "paitientAppointmentCount.describe()"
   ]
  },
  {
   "cell_type": "markdown",
   "metadata": {},
   "source": [
    "> 50% of the paitient took appointment only once. \n",
    "\n",
    "> 75% took less than 2 appointments"
   ]
  },
  {
   "cell_type": "code",
   "execution_count": 46,
   "metadata": {},
   "outputs": [
    {
     "data": {
      "image/png": "[encoded data removed]",
      "text/plain": [
       "<Figure size 403.2x288 with 2 Axes>"
      ]
     },
     "metadata": {
      "needs_background": "light"
     },
     "output_type": "display_data"
    }
   ],
   "source": [
    "g = sns.catplot(x=\"gender\",col=\"no-show\",\n",
    "                data = df, kind=\"count\",\n",
    "                height=4, aspect=.7)"
   ]
  },
  {
   "cell_type": "markdown",
   "metadata": {},
   "source": [
    "> This clearly shows that female paitents are much more than male paitents (almost double). No-show trend for women is also the same."
   ]
  },
  {
   "cell_type": "markdown",
   "metadata": {},
   "source": [
    "#### Analysis on the basis Sms_received"
   ]
  },
  {
   "cell_type": "code",
   "execution_count": 47,
   "metadata": {},
   "outputs": [
    {
     "data": {
      "text/plain": [
       "array([0, 1], dtype=int64)"
      ]
     },
     "execution_count": 47,
     "metadata": {},
     "output_type": "execute_result"
    }
   ],
   "source": [
    "df.sms_received.unique()"
   ]
  },
  {
   "cell_type": "code",
   "execution_count": 48,
   "metadata": {
    "scrolled": true
   },
   "outputs": [
    {
     "data": {
      "image/png": "[encoded data removed]",
      "text/plain": [
       "<Figure size 403.2x288 with 2 Axes>"
      ]
     },
     "metadata": {
      "needs_background": "light"
     },
     "output_type": "display_data"
    }
   ],
   "source": [
    "g = sns.catplot(x=\"gender\",col=\"sms_received\",\n",
    "                data = df, kind=\"count\",\n",
    "                height=4, aspect=.7)"
   ]
  },
  {
   "cell_type": "markdown",
   "metadata": {},
   "source": [
    "This clearly shows that female paitents received sms are much more than male paitents "
   ]
  },
  {
   "cell_type": "markdown",
   "metadata": {},
   "source": [
    "#### Analysis on the basis of Show /noshow"
   ]
  },
  {
   "cell_type": "code",
   "execution_count": 49,
   "metadata": {
    "scrolled": true
   },
   "outputs": [
    {
     "data": {
      "text/plain": [
       "no-show  sms_received\n",
       "No       0               62510\n",
       "         1               25698\n",
       "Yes      0               12535\n",
       "         1                9784\n",
       "Name: no-show-number, dtype: int64"
      ]
     },
     "execution_count": 49,
     "metadata": {},
     "output_type": "execute_result"
    }
   ],
   "source": [
    "df['no-show-number'] = df['no-show'].map({'Yes': 1, 'No': 0})\n",
    "df.groupby(['no-show', 'sms_received'])[\"no-show-number\"].apply(lambda x : x.astype(int).count().sum())"
   ]
  },
  {
   "cell_type": "code",
   "execution_count": null,
   "metadata": {
    "scrolled": true
   },
   "outputs": [],
   "source": [
    "#to = df.groupby(['hypertension', 'diabetes','alcoholism','handicap'])[\"no-show-number\"].apply(lambda x : x.astype(int).count().sum())\n",
    "#to"
   ]
  },
  {
   "cell_type": "code",
   "execution_count": 50,
   "metadata": {},
   "outputs": [
    {
     "data": {
      "text/plain": [
       "no-show  gender\n",
       "No       F         57246\n",
       "         M         30962\n",
       "Yes      F         14594\n",
       "         M          7725\n",
       "Name: no-show-number, dtype: int64"
      ]
     },
     "execution_count": 50,
     "metadata": {},
     "output_type": "execute_result"
    }
   ],
   "source": [
    "g = df.groupby(['no-show', 'gender'])[\"no-show-number\"].apply(lambda x : x.astype(int).count().sum())\n",
    "g"
   ]
  },
  {
   "cell_type": "code",
   "execution_count": 51,
   "metadata": {
    "scrolled": true
   },
   "outputs": [
    {
     "data": {
      "text/html": [
       "<div>\n",
       "<style scoped>\n",
       "    .dataframe tbody tr th:only-of-type {\n",
       "        vertical-align: middle;\n",
       "    }\n",
       "\n",
       "    .dataframe tbody tr th {\n",
       "        vertical-align: top;\n",
       "    }\n",
       "\n",
       "    .dataframe thead th {\n",
       "        text-align: right;\n",
       "    }\n",
       "</style>\n",
       "<table border=\"1\" class=\"dataframe\">\n",
       "  <thead>\n",
       "    <tr style=\"text-align: right;\">\n",
       "      <th></th>\n",
       "      <th>no-show</th>\n",
       "      <th>age</th>\n",
       "      <th>no-show-number</th>\n",
       "    </tr>\n",
       "  </thead>\n",
       "  <tbody>\n",
       "    <tr>\n",
       "      <th>1</th>\n",
       "      <td>No</td>\n",
       "      <td>0</td>\n",
       "      <td>2900</td>\n",
       "    </tr>\n",
       "    <tr>\n",
       "      <th>2</th>\n",
       "      <td>No</td>\n",
       "      <td>1</td>\n",
       "      <td>1858</td>\n",
       "    </tr>\n",
       "    <tr>\n",
       "      <th>53</th>\n",
       "      <td>No</td>\n",
       "      <td>52</td>\n",
       "      <td>1449</td>\n",
       "    </tr>\n",
       "    <tr>\n",
       "      <th>57</th>\n",
       "      <td>No</td>\n",
       "      <td>56</td>\n",
       "      <td>1372</td>\n",
       "    </tr>\n",
       "    <tr>\n",
       "      <th>3</th>\n",
       "      <td>No</td>\n",
       "      <td>2</td>\n",
       "      <td>1366</td>\n",
       "    </tr>\n",
       "    <tr>\n",
       "      <th>60</th>\n",
       "      <td>No</td>\n",
       "      <td>59</td>\n",
       "      <td>1357</td>\n",
       "    </tr>\n",
       "    <tr>\n",
       "      <th>50</th>\n",
       "      <td>No</td>\n",
       "      <td>49</td>\n",
       "      <td>1354</td>\n",
       "    </tr>\n",
       "    <tr>\n",
       "      <th>54</th>\n",
       "      <td>No</td>\n",
       "      <td>53</td>\n",
       "      <td>1332</td>\n",
       "    </tr>\n",
       "    <tr>\n",
       "      <th>58</th>\n",
       "      <td>No</td>\n",
       "      <td>57</td>\n",
       "      <td>1325</td>\n",
       "    </tr>\n",
       "    <tr>\n",
       "      <th>51</th>\n",
       "      <td>No</td>\n",
       "      <td>50</td>\n",
       "      <td>1322</td>\n",
       "    </tr>\n",
       "    <tr>\n",
       "      <th>39</th>\n",
       "      <td>No</td>\n",
       "      <td>38</td>\n",
       "      <td>1309</td>\n",
       "    </tr>\n",
       "    <tr>\n",
       "      <th>52</th>\n",
       "      <td>No</td>\n",
       "      <td>51</td>\n",
       "      <td>1284</td>\n",
       "    </tr>\n",
       "    <tr>\n",
       "      <th>55</th>\n",
       "      <td>No</td>\n",
       "      <td>54</td>\n",
       "      <td>1262</td>\n",
       "    </tr>\n",
       "    <tr>\n",
       "      <th>4</th>\n",
       "      <td>No</td>\n",
       "      <td>3</td>\n",
       "      <td>1236</td>\n",
       "    </tr>\n",
       "    <tr>\n",
       "      <th>37</th>\n",
       "      <td>No</td>\n",
       "      <td>36</td>\n",
       "      <td>1236</td>\n",
       "    </tr>\n",
       "    <tr>\n",
       "      <th>38</th>\n",
       "      <td>No</td>\n",
       "      <td>37</td>\n",
       "      <td>1216</td>\n",
       "    </tr>\n",
       "    <tr>\n",
       "      <th>59</th>\n",
       "      <td>No</td>\n",
       "      <td>58</td>\n",
       "      <td>1216</td>\n",
       "    </tr>\n",
       "    <tr>\n",
       "      <th>7</th>\n",
       "      <td>No</td>\n",
       "      <td>6</td>\n",
       "      <td>1205</td>\n",
       "    </tr>\n",
       "    <tr>\n",
       "      <th>35</th>\n",
       "      <td>No</td>\n",
       "      <td>34</td>\n",
       "      <td>1204</td>\n",
       "    </tr>\n",
       "    <tr>\n",
       "      <th>46</th>\n",
       "      <td>No</td>\n",
       "      <td>45</td>\n",
       "      <td>1198</td>\n",
       "    </tr>\n",
       "    <tr>\n",
       "      <th>40</th>\n",
       "      <td>No</td>\n",
       "      <td>39</td>\n",
       "      <td>1196</td>\n",
       "    </tr>\n",
       "    <tr>\n",
       "      <th>64</th>\n",
       "      <td>No</td>\n",
       "      <td>63</td>\n",
       "      <td>1195</td>\n",
       "    </tr>\n",
       "    <tr>\n",
       "      <th>47</th>\n",
       "      <td>No</td>\n",
       "      <td>46</td>\n",
       "      <td>1177</td>\n",
       "    </tr>\n",
       "    <tr>\n",
       "      <th>34</th>\n",
       "      <td>No</td>\n",
       "      <td>33</td>\n",
       "      <td>1176</td>\n",
       "    </tr>\n",
       "    <tr>\n",
       "      <th>61</th>\n",
       "      <td>No</td>\n",
       "      <td>60</td>\n",
       "      <td>1175</td>\n",
       "    </tr>\n",
       "    <tr>\n",
       "      <th>33</th>\n",
       "      <td>No</td>\n",
       "      <td>32</td>\n",
       "      <td>1174</td>\n",
       "    </tr>\n",
       "    <tr>\n",
       "      <th>6</th>\n",
       "      <td>No</td>\n",
       "      <td>5</td>\n",
       "      <td>1169</td>\n",
       "    </tr>\n",
       "    <tr>\n",
       "      <th>56</th>\n",
       "      <td>No</td>\n",
       "      <td>55</td>\n",
       "      <td>1168</td>\n",
       "    </tr>\n",
       "    <tr>\n",
       "      <th>45</th>\n",
       "      <td>No</td>\n",
       "      <td>44</td>\n",
       "      <td>1164</td>\n",
       "    </tr>\n",
       "    <tr>\n",
       "      <th>31</th>\n",
       "      <td>No</td>\n",
       "      <td>30</td>\n",
       "      <td>1152</td>\n",
       "    </tr>\n",
       "    <tr>\n",
       "      <th>...</th>\n",
       "      <td>...</td>\n",
       "      <td>...</td>\n",
       "      <td>...</td>\n",
       "    </tr>\n",
       "    <tr>\n",
       "      <th>187</th>\n",
       "      <td>Yes</td>\n",
       "      <td>83</td>\n",
       "      <td>61</td>\n",
       "    </tr>\n",
       "    <tr>\n",
       "      <th>183</th>\n",
       "      <td>Yes</td>\n",
       "      <td>79</td>\n",
       "      <td>61</td>\n",
       "    </tr>\n",
       "    <tr>\n",
       "      <th>92</th>\n",
       "      <td>No</td>\n",
       "      <td>91</td>\n",
       "      <td>53</td>\n",
       "    </tr>\n",
       "    <tr>\n",
       "      <th>189</th>\n",
       "      <td>Yes</td>\n",
       "      <td>85</td>\n",
       "      <td>49</td>\n",
       "    </tr>\n",
       "    <tr>\n",
       "      <th>94</th>\n",
       "      <td>No</td>\n",
       "      <td>93</td>\n",
       "      <td>43</td>\n",
       "    </tr>\n",
       "    <tr>\n",
       "      <th>190</th>\n",
       "      <td>Yes</td>\n",
       "      <td>86</td>\n",
       "      <td>42</td>\n",
       "    </tr>\n",
       "    <tr>\n",
       "      <th>188</th>\n",
       "      <td>Yes</td>\n",
       "      <td>84</td>\n",
       "      <td>35</td>\n",
       "    </tr>\n",
       "    <tr>\n",
       "      <th>193</th>\n",
       "      <td>Yes</td>\n",
       "      <td>89</td>\n",
       "      <td>29</td>\n",
       "    </tr>\n",
       "    <tr>\n",
       "      <th>191</th>\n",
       "      <td>Yes</td>\n",
       "      <td>87</td>\n",
       "      <td>27</td>\n",
       "    </tr>\n",
       "    <tr>\n",
       "      <th>95</th>\n",
       "      <td>No</td>\n",
       "      <td>94</td>\n",
       "      <td>27</td>\n",
       "    </tr>\n",
       "    <tr>\n",
       "      <th>194</th>\n",
       "      <td>Yes</td>\n",
       "      <td>90</td>\n",
       "      <td>23</td>\n",
       "    </tr>\n",
       "    <tr>\n",
       "      <th>196</th>\n",
       "      <td>Yes</td>\n",
       "      <td>92</td>\n",
       "      <td>20</td>\n",
       "    </tr>\n",
       "    <tr>\n",
       "      <th>96</th>\n",
       "      <td>No</td>\n",
       "      <td>95</td>\n",
       "      <td>18</td>\n",
       "    </tr>\n",
       "    <tr>\n",
       "      <th>97</th>\n",
       "      <td>No</td>\n",
       "      <td>96</td>\n",
       "      <td>16</td>\n",
       "    </tr>\n",
       "    <tr>\n",
       "      <th>195</th>\n",
       "      <td>Yes</td>\n",
       "      <td>91</td>\n",
       "      <td>13</td>\n",
       "    </tr>\n",
       "    <tr>\n",
       "      <th>192</th>\n",
       "      <td>Yes</td>\n",
       "      <td>88</td>\n",
       "      <td>12</td>\n",
       "    </tr>\n",
       "    <tr>\n",
       "      <th>197</th>\n",
       "      <td>Yes</td>\n",
       "      <td>93</td>\n",
       "      <td>10</td>\n",
       "    </tr>\n",
       "    <tr>\n",
       "      <th>98</th>\n",
       "      <td>No</td>\n",
       "      <td>97</td>\n",
       "      <td>9</td>\n",
       "    </tr>\n",
       "    <tr>\n",
       "      <th>199</th>\n",
       "      <td>Yes</td>\n",
       "      <td>95</td>\n",
       "      <td>6</td>\n",
       "    </tr>\n",
       "    <tr>\n",
       "      <th>198</th>\n",
       "      <td>Yes</td>\n",
       "      <td>94</td>\n",
       "      <td>6</td>\n",
       "    </tr>\n",
       "    <tr>\n",
       "      <th>99</th>\n",
       "      <td>No</td>\n",
       "      <td>98</td>\n",
       "      <td>5</td>\n",
       "    </tr>\n",
       "    <tr>\n",
       "      <th>101</th>\n",
       "      <td>No</td>\n",
       "      <td>100</td>\n",
       "      <td>4</td>\n",
       "    </tr>\n",
       "    <tr>\n",
       "      <th>203</th>\n",
       "      <td>Yes</td>\n",
       "      <td>115</td>\n",
       "      <td>3</td>\n",
       "    </tr>\n",
       "    <tr>\n",
       "      <th>201</th>\n",
       "      <td>Yes</td>\n",
       "      <td>97</td>\n",
       "      <td>2</td>\n",
       "    </tr>\n",
       "    <tr>\n",
       "      <th>102</th>\n",
       "      <td>No</td>\n",
       "      <td>102</td>\n",
       "      <td>2</td>\n",
       "    </tr>\n",
       "    <tr>\n",
       "      <th>103</th>\n",
       "      <td>No</td>\n",
       "      <td>115</td>\n",
       "      <td>2</td>\n",
       "    </tr>\n",
       "    <tr>\n",
       "      <th>200</th>\n",
       "      <td>Yes</td>\n",
       "      <td>96</td>\n",
       "      <td>1</td>\n",
       "    </tr>\n",
       "    <tr>\n",
       "      <th>100</th>\n",
       "      <td>No</td>\n",
       "      <td>99</td>\n",
       "      <td>1</td>\n",
       "    </tr>\n",
       "    <tr>\n",
       "      <th>202</th>\n",
       "      <td>Yes</td>\n",
       "      <td>98</td>\n",
       "      <td>1</td>\n",
       "    </tr>\n",
       "    <tr>\n",
       "      <th>0</th>\n",
       "      <td>No</td>\n",
       "      <td>-1</td>\n",
       "      <td>1</td>\n",
       "    </tr>\n",
       "  </tbody>\n",
       "</table>\n",
       "<p>204 rows × 3 columns</p>\n",
       "</div>"
      ],
      "text/plain": [
       "    no-show  age  no-show-number\n",
       "1        No    0            2900\n",
       "2        No    1            1858\n",
       "53       No   52            1449\n",
       "57       No   56            1372\n",
       "3        No    2            1366\n",
       "60       No   59            1357\n",
       "50       No   49            1354\n",
       "54       No   53            1332\n",
       "58       No   57            1325\n",
       "51       No   50            1322\n",
       "39       No   38            1309\n",
       "52       No   51            1284\n",
       "55       No   54            1262\n",
       "4        No    3            1236\n",
       "37       No   36            1236\n",
       "38       No   37            1216\n",
       "59       No   58            1216\n",
       "7        No    6            1205\n",
       "35       No   34            1204\n",
       "46       No   45            1198\n",
       "40       No   39            1196\n",
       "64       No   63            1195\n",
       "47       No   46            1177\n",
       "34       No   33            1176\n",
       "61       No   60            1175\n",
       "33       No   32            1174\n",
       "6        No    5            1169\n",
       "56       No   55            1168\n",
       "45       No   44            1164\n",
       "31       No   30            1152\n",
       "..      ...  ...             ...\n",
       "187     Yes   83              61\n",
       "183     Yes   79              61\n",
       "92       No   91              53\n",
       "189     Yes   85              49\n",
       "94       No   93              43\n",
       "190     Yes   86              42\n",
       "188     Yes   84              35\n",
       "193     Yes   89              29\n",
       "191     Yes   87              27\n",
       "95       No   94              27\n",
       "194     Yes   90              23\n",
       "196     Yes   92              20\n",
       "96       No   95              18\n",
       "97       No   96              16\n",
       "195     Yes   91              13\n",
       "192     Yes   88              12\n",
       "197     Yes   93              10\n",
       "98       No   97               9\n",
       "199     Yes   95               6\n",
       "198     Yes   94               6\n",
       "99       No   98               5\n",
       "101      No  100               4\n",
       "203     Yes  115               3\n",
       "201     Yes   97               2\n",
       "102      No  102               2\n",
       "103      No  115               2\n",
       "200     Yes   96               1\n",
       "100      No   99               1\n",
       "202     Yes   98               1\n",
       "0        No   -1               1\n",
       "\n",
       "[204 rows x 3 columns]"
      ]
     },
     "execution_count": 51,
     "metadata": {},
     "output_type": "execute_result"
    }
   ],
   "source": [
    "a= df.groupby(['no-show', 'age'])[\"no-show-number\"].apply(lambda x : x.astype(int).count().sum()).reset_index()\n",
    "a.sort_values('no-show-number', ascending=False)"
   ]
  },
  {
   "cell_type": "markdown",
   "metadata": {},
   "source": [
    "> Persons above age 50 and small children (0-10), no shows = no. tend to show you for appointments."
   ]
  },
  {
   "cell_type": "code",
   "execution_count": 52,
   "metadata": {},
   "outputs": [
    {
     "data": {
      "text/plain": [
       "no-show  neighbourhood      \n",
       "No       AEROPORTO                 7\n",
       "         ANDORINHAS             1741\n",
       "         ANTÔNIO HONÓRIO         221\n",
       "         ARIOVALDO FAVALESSA     220\n",
       "         BARRO VERMELHO          332\n",
       "         BELA VISTA             1523\n",
       "         BENTO FERREIRA          665\n",
       "         BOA VISTA               254\n",
       "         BONFIM                 2223\n",
       "         CARATOÍRA              1974\n",
       "         CENTRO                 2631\n",
       "         COMDUSA                 254\n",
       "         CONQUISTA               689\n",
       "         CONSOLAÇÃO             1139\n",
       "         CRUZAMENTO             1094\n",
       "         DA PENHA               1788\n",
       "         DE LOURDES              258\n",
       "         DO CABRAL               472\n",
       "         DO MOSCOSO              321\n",
       "         DO QUADRO               709\n",
       "         ENSEADA DO SUÁ          183\n",
       "         ESTRELINHA              432\n",
       "         FONTE GRANDE            533\n",
       "         FORTE SÃO JOÃO         1543\n",
       "         FRADINHOS               210\n",
       "         GOIABEIRAS              563\n",
       "         GRANDE VITÓRIA          854\n",
       "         GURIGICA               1562\n",
       "         HORTO                   133\n",
       "         ILHA DAS CAIEIRAS       836\n",
       "                                ... \n",
       "Yes      NOVA PALESTINA          402\n",
       "         PARQUE MOSCOSO          179\n",
       "         PIEDADE                  88\n",
       "         PONTAL DE CAMBURI        12\n",
       "         PRAIA DO CANTO          190\n",
       "         PRAIA DO SUÁ            294\n",
       "         REDENÇÃO                275\n",
       "         REPÚBLICA               143\n",
       "         RESISTÊNCIA             906\n",
       "         ROMÃO                   474\n",
       "         SANTA CECÍLIA           123\n",
       "         SANTA CLARA             134\n",
       "         SANTA HELENA             37\n",
       "         SANTA LUÍZA              77\n",
       "         SANTA LÚCIA              86\n",
       "         SANTA MARTHA            496\n",
       "         SANTA TEREZA            272\n",
       "         SANTO ANDRÉ             508\n",
       "         SANTO ANTÔNIO           484\n",
       "         SANTOS DUMONT           369\n",
       "         SANTOS REIS             112\n",
       "         SEGURANÇA DO LAR         28\n",
       "         SOLON BORGES             69\n",
       "         SÃO BENEDITO            287\n",
       "         SÃO CRISTÓVÃO           363\n",
       "         SÃO JOSÉ                428\n",
       "         SÃO PEDRO               515\n",
       "         TABUAZEIRO              573\n",
       "         UNIVERSITÁRIO            32\n",
       "         VILA RUBIM              141\n",
       "Name: no-show-number, Length: 160, dtype: int64"
      ]
     },
     "execution_count": 52,
     "metadata": {},
     "output_type": "execute_result"
    }
   ],
   "source": [
    "df.groupby(['no-show', 'neighbourhood'])[\"no-show-number\"].apply(lambda x : x.astype(int).count().sum())"
   ]
  },
  {
   "cell_type": "code",
   "execution_count": null,
   "metadata": {},
   "outputs": [],
   "source": [
    "scholarship = df[df['scholarship'] == 1].groupby(['no-show', 'scholarship'])[\"no-show-number\"].apply(lambda x:x.astype(int).count().sum())\n",
    "scholarship"
   ]
  },
  {
   "cell_type": "markdown",
   "metadata": {},
   "source": [
    "> 75% of scholarship holders do show up for appointment"
   ]
  },
  {
   "cell_type": "code",
   "execution_count": 63,
   "metadata": {
    "scrolled": true
   },
   "outputs": [
    {
     "data": {
      "text/plain": [
       "no-show  scholarship\n",
       "No       0              79925\n",
       "Yes      0              19741\n",
       "Name: no-show-number, dtype: int64"
      ]
     },
     "execution_count": 63,
     "metadata": {},
     "output_type": "execute_result"
    }
   ],
   "source": [
    "scholarship1 = df[df['scholarship'] == 0].groupby(['no-show', 'scholarship'])[\"no-show-number\"].apply(lambda x:x.astype(int).count().sum())\n",
    "scholarship1"
   ]
  },
  {
   "cell_type": "markdown",
   "metadata": {},
   "source": [
    "##### Univariate Analysis"
   ]
  },
  {
   "cell_type": "code",
   "execution_count": 162,
   "metadata": {},
   "outputs": [
    {
     "data": {
      "image/png": "[encoded data removed]",
      "text/plain": [
       "<Figure size 432x432 with 4 Axes>"
      ]
     },
     "metadata": {
      "needs_background": "light"
     },
     "output_type": "display_data"
    }
   ],
   "source": [
    "g = sns.FacetGrid(df, col=\"scholarship\",  row=\"no-show\")\n",
    "g = g.map(plt.hist, \"age\")"
   ]
  },
  {
   "cell_type": "markdown",
   "metadata": {},
   "source": [
    "> 80% do not have scholarship. 20% of which didnt show up for appointment. This show up more % of scholarship holder didnt show up for appointment."
   ]
  },
  {
   "cell_type": "markdown",
   "metadata": {},
   "source": [
    " ####  Analysis Scholarship data using Pie Chart"
   ]
  },
  {
   "cell_type": "code",
   "execution_count": null,
   "metadata": {
    "scrolled": true
   },
   "outputs": [],
   "source": [
    "fig = plt.figure()\n",
    "topic =['No','Yes']\n",
    "labels= list(topic)\n",
    "ax1 = fig.add_axes([0, 0, .5, .5], aspect=1)\n",
    "ax1.pie(scholarship,autopct='%1.1f%%',labels=labels, shadow=True ,radius = 1.2)\n",
    "ax2 = fig.add_axes([.5, .0, .5, .5], aspect=1)\n",
    "ax2.pie(scholarship1, autopct='%1.1f%%',labels=labels, shadow=True, radius = 1.2)\n",
    "ax2.set_title('No scholarship')\n",
    "ax1.set_title('With scholarship')\n",
    "plt.show()"
   ]
  },
  {
   "cell_type": "code",
   "execution_count": 59,
   "metadata": {
    "scrolled": false
   },
   "outputs": [
    {
     "data": {
      "text/plain": [
       "no-show  hypertension\n",
       "No       1               18029\n",
       "Yes      1                3772\n",
       "Name: no-show-number, dtype: int64"
      ]
     },
     "execution_count": 59,
     "metadata": {},
     "output_type": "execute_result"
    }
   ],
   "source": [
    "#Age\tAlcoholism\tHandcap\n",
    "hypertension=df[df['hypertension'] == 1].groupby(['no-show', 'hypertension'])[\"no-show-number\"].apply(lambda x:x.astype(int).count().sum())\n",
    "hypertension"
   ]
  },
  {
   "cell_type": "markdown",
   "metadata": {},
   "source": [
    ">17.3 % peope with hyper tension didnt show for appointment"
   ]
  },
  {
   "cell_type": "code",
   "execution_count": 65,
   "metadata": {},
   "outputs": [
    {
     "data": {
      "text/plain": [
       "no-show  hypertension\n",
       "No       0               70179\n",
       "Yes      0               18547\n",
       "Name: no-show-number, dtype: int64"
      ]
     },
     "execution_count": 65,
     "metadata": {},
     "output_type": "execute_result"
    }
   ],
   "source": [
    "hypertension1=df[df['hypertension'] == 0].groupby(['no-show', 'hypertension'])[\"no-show-number\"].apply(lambda x:x.astype(int).count().sum())\n",
    "hypertension1"
   ]
  },
  {
   "cell_type": "markdown",
   "metadata": {},
   "source": [
    "> 20.90% people who didnt had hyper tension didnt show up for appointment"
   ]
  },
  {
   "cell_type": "markdown",
   "metadata": {},
   "source": [
    "##### Univariate Analysis"
   ]
  },
  {
   "cell_type": "code",
   "execution_count": 166,
   "metadata": {},
   "outputs": [
    {
     "data": {
      "image/png": "[encoded data removed]",
      "text/plain": [
       "<Figure size 432x432 with 4 Axes>"
      ]
     },
     "metadata": {
      "needs_background": "light"
     },
     "output_type": "display_data"
    }
   ],
   "source": [
    "g = sns.FacetGrid(df, col=\"hypertension\",  row=\"no-show\")\n",
    "g = g.map(plt.hist, \"age\")"
   ]
  },
  {
   "cell_type": "code",
   "execution_count": 66,
   "metadata": {
    "scrolled": false
   },
   "outputs": [
    {
     "data": {
      "text/plain": [
       "no-show  diabetes\n",
       "No       1           6513\n",
       "Yes      1           1430\n",
       "Name: no-show-number, dtype: int64"
      ]
     },
     "execution_count": 66,
     "metadata": {},
     "output_type": "execute_result"
    }
   ],
   "source": [
    "diabetes=df[df['diabetes'] == 1].groupby(['no-show', 'diabetes'])[\"no-show-number\"].apply(lambda x:x.astype(int).count().sum())\n",
    "diabetes"
   ]
  },
  {
   "cell_type": "markdown",
   "metadata": {},
   "source": [
    ">18 % peope with diabetes didnt show for appointment"
   ]
  },
  {
   "cell_type": "code",
   "execution_count": 67,
   "metadata": {},
   "outputs": [
    {
     "data": {
      "text/plain": [
       "no-show  diabetes\n",
       "No       0           81695\n",
       "Yes      0           20889\n",
       "Name: no-show-number, dtype: int64"
      ]
     },
     "execution_count": 67,
     "metadata": {},
     "output_type": "execute_result"
    }
   ],
   "source": [
    "diabetes1=df[df['diabetes'] == 0].groupby(['no-show', 'diabetes'])[\"no-show-number\"].apply(lambda x:x.astype(int).count().sum())\n",
    "diabetes1"
   ]
  },
  {
   "cell_type": "markdown",
   "metadata": {},
   "source": [
    "> ~20b% people who didnt had diabetes didnt show up for appointment"
   ]
  },
  {
   "cell_type": "markdown",
   "metadata": {},
   "source": [
    "##### Univariate Analysis"
   ]
  },
  {
   "cell_type": "code",
   "execution_count": 167,
   "metadata": {},
   "outputs": [
    {
     "data": {
      "image/png": "[encoded data removed]",
      "text/plain": [
       "<Figure size 432x432 with 4 Axes>"
      ]
     },
     "metadata": {
      "needs_background": "light"
     },
     "output_type": "display_data"
    }
   ],
   "source": [
    "g = sns.FacetGrid(df, col=\"diabetes\",  row=\"no-show\")\n",
    "g = g.map(plt.hist, \"age\",color=\"brown\")"
   ]
  },
  {
   "cell_type": "code",
   "execution_count": 68,
   "metadata": {
    "scrolled": true
   },
   "outputs": [
    {
     "data": {
      "text/plain": [
       "no-show  handicap\n",
       "No       1           1676\n",
       "Yes      1            366\n",
       "Name: no-show-number, dtype: int64"
      ]
     },
     "execution_count": 68,
     "metadata": {},
     "output_type": "execute_result"
    }
   ],
   "source": [
    "handicap=df[df['handicap'] == 1].groupby(['no-show', 'handicap'])[\"no-show-number\"].apply(lambda x:x.astype(int).count().sum())\n",
    "handicap"
   ]
  },
  {
   "cell_type": "code",
   "execution_count": 69,
   "metadata": {
    "scrolled": true
   },
   "outputs": [
    {
     "data": {
      "text/plain": [
       "no-show  handicap\n",
       "No       0           86374\n",
       "Yes      0           21912\n",
       "Name: no-show-number, dtype: int64"
      ]
     },
     "execution_count": 69,
     "metadata": {},
     "output_type": "execute_result"
    }
   ],
   "source": [
    "handicap1=df[df['handicap'] == 0].groupby(['no-show', 'handicap'])[\"no-show-number\"].apply(lambda x:x.astype(int).count().sum())\n",
    "handicap1"
   ]
  },
  {
   "cell_type": "markdown",
   "metadata": {},
   "source": [
    "##### Univariate Analysis"
   ]
  },
  {
   "cell_type": "code",
   "execution_count": 178,
   "metadata": {},
   "outputs": [
    {
     "data": {
      "image/png": "[encoded data removed]",
      "text/plain": [
       "<Figure size 1080x432 with 10 Axes>"
      ]
     },
     "metadata": {
      "needs_background": "light"
     },
     "output_type": "display_data"
    }
   ],
   "source": [
    "g = sns.FacetGrid(df, col=\"handicap\",  row=\"no-show\")\n",
    "g = g.map(plt.hist, \"age\",color=\"g\")"
   ]
  },
  {
   "cell_type": "markdown",
   "metadata": {},
   "source": [
    ">18 % handicapped people didnt show for appointment"
   ]
  },
  {
   "cell_type": "code",
   "execution_count": 120,
   "metadata": {
    "scrolled": true
   },
   "outputs": [
    {
     "data": {
      "text/plain": [
       "Text(0.5,1,'Noshow Handicap Analysis ')"
      ]
     },
     "execution_count": 120,
     "metadata": {},
     "output_type": "execute_result"
    },
    {
     "data": {
      "image/png": "[encoded data removed]",
      "text/plain": [
       "<Figure size 432x288 with 1 Axes>"
      ]
     },
     "metadata": {
      "needs_background": "light"
     },
     "output_type": "display_data"
    }
   ],
   "source": [
    "ax = sns.barplot(x=\"handicap\", y=\"no-show\", hue=\"gender\", data=df)\n",
    "ax.set_title('Noshow Handicap Analysis ')"
   ]
  },
  {
   "cell_type": "code",
   "execution_count": 71,
   "metadata": {
    "scrolled": true
   },
   "outputs": [
    {
     "data": {
      "text/plain": [
       "no-show  alcoholism\n",
       "No       1             2683\n",
       "Yes      1              677\n",
       "Name: no-show-number, dtype: int64"
      ]
     },
     "execution_count": 71,
     "metadata": {},
     "output_type": "execute_result"
    }
   ],
   "source": [
    "alcoholism =df[df['alcoholism'] == 1].groupby(['no-show', 'alcoholism'])[\"no-show-number\"].apply(lambda x:x.astype(int).count().sum())\n",
    "alcoholism"
   ]
  },
  {
   "cell_type": "markdown",
   "metadata": {},
   "source": [
    ">20 % alcoholic people didnt show for appointment"
   ]
  },
  {
   "cell_type": "code",
   "execution_count": 72,
   "metadata": {},
   "outputs": [
    {
     "data": {
      "text/plain": [
       "no-show  alcoholism\n",
       "No       0             85525\n",
       "Yes      0             21642\n",
       "Name: no-show-number, dtype: int64"
      ]
     },
     "execution_count": 72,
     "metadata": {},
     "output_type": "execute_result"
    }
   ],
   "source": [
    "alcoholism1=df[df['alcoholism'] == 0].groupby(['no-show', 'alcoholism'])[\"no-show-number\"].apply(lambda x:x.astype(int).count().sum())\n",
    "alcoholism1"
   ]
  },
  {
   "cell_type": "markdown",
   "metadata": {},
   "source": [
    "##### Univariate Analysis"
   ]
  },
  {
   "cell_type": "code",
   "execution_count": 175,
   "metadata": {},
   "outputs": [
    {
     "data": {
      "image/png": "[encoded data removed]",
      "text/plain": [
       "<Figure size 432x432 with 4 Axes>"
      ]
     },
     "metadata": {
      "needs_background": "light"
     },
     "output_type": "display_data"
    }
   ],
   "source": [
    "g = sns.FacetGrid(df, col=\"alcoholism\",  row=\"no-show\")\n",
    "g = g.map(plt.hist, \"age\",color=\"c\")"
   ]
  },
  {
   "cell_type": "markdown",
   "metadata": {},
   "source": [
    "~20% people who are not alcoholic didnt show up for appointment"
   ]
  },
  {
   "cell_type": "code",
   "execution_count": 121,
   "metadata": {},
   "outputs": [
    {
     "data": {
      "text/plain": [
       "Text(0.5,1,'Noshow alcoholism Analysis ')"
      ]
     },
     "execution_count": 121,
     "metadata": {},
     "output_type": "execute_result"
    },
    {
     "data": {
      "image/png": "[encoded data removed]",
      "text/plain": [
       "<Figure size 432x288 with 1 Axes>"
      ]
     },
     "metadata": {
      "needs_background": "light"
     },
     "output_type": "display_data"
    }
   ],
   "source": [
    "ax = sns.barplot(x=\"alcoholism\", y=\"no-show\", hue=\"gender\", data=df)\n",
    "ax.set_title('Noshow alcoholism Analysis ')"
   ]
  },
  {
   "cell_type": "code",
   "execution_count": null,
   "metadata": {
    "scrolled": true
   },
   "outputs": [],
   "source": [
    "#number =df.groupby('scheduledday',).mean()[['sms_received']]\n",
    "#g = sns.catplot(x=\"scheduledday\", col=\"sms_received\",\n",
    "             #   data = df, kind=\"count\",\n",
    "             #   )"
   ]
  },
  {
   "cell_type": "markdown",
   "metadata": {},
   "source": [
    "## Exploratory Analysis:\n",
    "Analysis of data based on statistics and visualize data using matplotlib\n",
    "\n",
    "#### Research Question 1.\n",
    "\n",
    "Investigate the dataset on basis of gender, find patterns. Make suggestions."
   ]
  },
  {
   "cell_type": "code",
   "execution_count": 74,
   "metadata": {},
   "outputs": [
    {
     "data": {
      "text/plain": [
       "gender\n",
       "F    38.893987\n",
       "M    33.736863\n",
       "Name: age, dtype: float64"
      ]
     },
     "execution_count": 74,
     "metadata": {},
     "output_type": "execute_result"
    }
   ],
   "source": [
    "age = df.groupby('gender')['age'].mean()\n",
    "age"
   ]
  },
  {
   "cell_type": "code",
   "execution_count": 75,
   "metadata": {},
   "outputs": [
    {
     "data": {
      "text/plain": [
       "count     2.000000\n",
       "mean     36.315425\n",
       "std       3.646637\n",
       "min      33.736863\n",
       "25%      35.026144\n",
       "50%      36.315425\n",
       "75%      37.604706\n",
       "max      38.893987\n",
       "Name: age, dtype: float64"
      ]
     },
     "execution_count": 75,
     "metadata": {},
     "output_type": "execute_result"
    }
   ],
   "source": [
    "age.describe()"
   ]
  },
  {
   "cell_type": "code",
   "execution_count": 122,
   "metadata": {
    "scrolled": true
   },
   "outputs": [
    {
     "data": {
      "image/png": "[encoded data removed]",
      "text/plain": [
       "<Figure size 432x288 with 1 Axes>"
      ]
     },
     "metadata": {
      "needs_background": "light"
     },
     "output_type": "display_data"
    }
   ],
   "source": [
    "fig, ax = plt.subplots()\n",
    "df.groupby('gender')['age'].mean().plot.bar()\n",
    "plt.title(\" Analysis Based on gender and mean_age\")\n",
    "plt.xlabel('gender', fontsize=8)\n",
    "plt.ylabel('mean_age', fontsize=8)\n",
    "plt.show()"
   ]
  },
  {
   "cell_type": "code",
   "execution_count": 77,
   "metadata": {
    "scrolled": false
   },
   "outputs": [
    {
     "data": {
      "text/plain": [
       "no-show  gender\n",
       "No       F         57246\n",
       "         M         30962\n",
       "Yes      F         14594\n",
       "         M          7725\n",
       "Name: no-show-number, dtype: int64"
      ]
     },
     "execution_count": 77,
     "metadata": {},
     "output_type": "execute_result"
    }
   ],
   "source": [
    "g = df.groupby(['no-show', 'gender'])[\"no-show-number\"].apply(lambda x : x.astype(int).count().sum())\n",
    "g"
   ]
  },
  {
   "cell_type": "markdown",
   "metadata": {},
   "source": [
    " ####  Analysis  Number of appointment data using Pie Chart"
   ]
  },
  {
   "cell_type": "code",
   "execution_count": 78,
   "metadata": {},
   "outputs": [
    {
     "data": {
      "image/png": "[encoded data removed]",
      "text/plain": [
       "<Figure size 432x288 with 1 Axes>"
      ]
     },
     "metadata": {},
     "output_type": "display_data"
    }
   ],
   "source": [
    "labels =['NoFemale','NoMales','yesFemales','yesMales']\n",
    "plt.pie(g, autopct='%1.1f%%',labels=labels,shadow=True)\n",
    "plt.title('Number of appointment show ')\n",
    "plt.show()"
   ]
  },
  {
   "cell_type": "markdown",
   "metadata": {},
   "source": [
    ">51.8% of females patient showed up to their appointment\n",
    ">28% of male patient showed to up their appointment. \n",
    ">13.2% of females patient they did not show up.\n",
    ">7.0% of males patient they did not show up\n",
    "\n",
    "On the basis of following data  we can make a statement that more females are aware their appointment and health issues  as compare to male patient"
   ]
  },
  {
   "cell_type": "markdown",
   "metadata": {},
   "source": [
    "### Research Question 2\n",
    "\n",
    "To Analyise the number of pateints on the basis of the disease/problesm (Hypertension, Alchoholic, Handicapped etc). Make suggestions."
   ]
  },
  {
   "cell_type": "code",
   "execution_count": 79,
   "metadata": {},
   "outputs": [
    {
     "data": {
      "text/plain": [
       "[[2657, 12682], [1115, 5347]]"
      ]
     },
     "execution_count": 79,
     "metadata": {},
     "output_type": "execute_result"
    }
   ],
   "source": [
    "noShowFemaleHyperTension = df[(df['gender'] == \"F\") & (df['no-show'] == 'Yes') & df['hypertension'] == 1].shape[0]\n",
    "showFemalesHyperTension = df[(df['gender'] == \"F\") & (df['no-show'] == 'No') & df['hypertension'] == 1].shape[0]\n",
    "\n",
    "noShowMalesHyperTension = df[(df['gender'] == \"M\") & (df['no-show'] == 'Yes') & df['hypertension'] == 1].shape[0]\n",
    "showMalesHyperTension = df[(df['gender'] == \"M\") & (df['no-show'] == 'No') & df['hypertension'] == 1].shape[0]\n",
    "\n",
    "data1 = [[noShowFemaleHyperTension,showFemalesHyperTension],[noShowMalesHyperTension,showMalesHyperTension]]\n",
    "data1\n"
   ]
  },
  {
   "cell_type": "code",
   "execution_count": 187,
   "metadata": {},
   "outputs": [
    {
     "data": {
      "image/png": "[encoded data removed]",
      "text/plain": [
       "<Figure size 432x432 with 4 Axes>"
      ]
     },
     "metadata": {
      "needs_background": "light"
     },
     "output_type": "display_data"
    }
   ],
   "source": [
    "g = sns.FacetGrid(df, col=\"gender\",  row=\"no-show\")\n",
    "g = g.map(plt.hist, \"hypertension\")"
   ]
  },
  {
   "cell_type": "markdown",
   "metadata": {},
   "source": [
    " ####  Analysis  Number of hypertension patient using Pie Chart"
   ]
  },
  {
   "cell_type": "code",
   "execution_count": null,
   "metadata": {},
   "outputs": [],
   "source": [
    "fig = plt.figure()\n",
    "topic =['No','Yes']\n",
    "labels= list(topic)\n",
    "ax1 = fig.add_axes([0, 0, .5, .5], aspect=1)\n",
    "ax1.pie(hypertension,autopct='%1.1f%%',labels=labels, shadow=True ,radius = 1.2)\n",
    "ax2 = fig.add_axes([.5, .0, .5, .5], aspect=1)\n",
    "ax2.pie(hypertension1, autopct='%1.1f%%',labels=labels, shadow=True, radius = 1.2)\n",
    "ax1.set_title('No Hypertension')\n",
    "ax2.set_title('Hypertension')\n",
    "plt.show()"
   ]
  },
  {
   "cell_type": "markdown",
   "metadata": {},
   "source": [
    ">17.3% patient don't show up appointment don't have hypertension,\n",
    ">82%patient don't show appointment have hypertension,\n",
    ">20.9% patient showup appointment don't have hypertension .\n",
    ">79.1% patient showedup appointment have hypertension."
   ]
  },
  {
   "cell_type": "code",
   "execution_count": 81,
   "metadata": {},
   "outputs": [
    {
     "data": {
      "text/plain": [
       "[[1017, 4589], [413, 1924]]"
      ]
     },
     "execution_count": 81,
     "metadata": {},
     "output_type": "execute_result"
    }
   ],
   "source": [
    "noShowFemalediabetes = df[(df['gender'] == \"F\") & (df['no-show'] == 'Yes') & df['diabetes'] == 1].shape[0]\n",
    "showFemalesdiabetes = df[(df['gender'] == \"F\") & (df['no-show'] == 'No') & df['diabetes'] == 1].shape[0]\n",
    "\n",
    "noShowMalesdiabetes = df[(df['gender'] == \"M\") & (df['no-show'] == 'Yes') & df['diabetes'] == 1].shape[0]\n",
    "showMalesdiabetes = df[(df['gender'] == \"M\") & (df['no-show'] == 'No') & df['diabetes'] == 1].shape[0]\n",
    "\n",
    "data2 = [[noShowFemalediabetes,showFemalesdiabetes],[noShowMalesdiabetes,showMalesdiabetes]]\n",
    "data2\n"
   ]
  },
  {
   "cell_type": "code",
   "execution_count": 188,
   "metadata": {},
   "outputs": [
    {
     "data": {
      "image/png": "[encoded data removed]",
      "text/plain": [
       "<Figure size 432x432 with 4 Axes>"
      ]
     },
     "metadata": {
      "needs_background": "light"
     },
     "output_type": "display_data"
    }
   ],
   "source": [
    "g = sns.FacetGrid(df, col=\"gender\",  row=\"no-show\")\n",
    "g = g.map(plt.hist, \"diabetes\")"
   ]
  },
  {
   "cell_type": "markdown",
   "metadata": {},
   "source": [
    " ####  Analysis  Number of diabetes patient data using Pie Chart"
   ]
  },
  {
   "cell_type": "code",
   "execution_count": 85,
   "metadata": {
    "scrolled": true
   },
   "outputs": [
    {
     "data": {
      "image/png": "[encoded data removed]",
      "text/plain": [
       "<Figure size 432x288 with 2 Axes>"
      ]
     },
     "metadata": {},
     "output_type": "display_data"
    }
   ],
   "source": [
    "fig = plt.figure()\n",
    "topic =['No','Yes']\n",
    "labels= list(topic)\n",
    "ax1 = fig.add_axes([0, 0, .5, .5], aspect=1)\n",
    "ax1.pie(diabetes,autopct='%1.1f%%',labels=labels, shadow=True ,radius = 1.2)\n",
    "ax2 = fig.add_axes([.5, .0, .5, .5], aspect=1)\n",
    "ax2.pie(diabetes1, autopct='%1.1f%%',labels=labels, shadow=True, radius = 1.2)\n",
    "ax1.set_title('No Diabetes')\n",
    "ax2.set_title('Diabetes')\n",
    "plt.show()"
   ]
  },
  {
   "cell_type": "markdown",
   "metadata": {},
   "source": [
    ">18% patient don't show up appointment don't have diabetes , \n",
    ">82%patient don't show appointment have diabetes,\n",
    ">20.4% patient show up appointment don't have diabetes\n",
    ">79.6% patient showed up appointment have diabetes."
   ]
  },
  {
   "cell_type": "code",
   "execution_count": 86,
   "metadata": {},
   "outputs": [
    {
     "data": {
      "text/plain": [
       "[[308, 915], [369, 1768]]"
      ]
     },
     "execution_count": 86,
     "metadata": {},
     "output_type": "execute_result"
    }
   ],
   "source": [
    "noShowFemalealcoholism = df[(df['gender'] == \"F\") & (df['no-show'] == 'Yes') & df['alcoholism'] == 1].shape[0]\n",
    "showFemalesalcoholism= df[(df['gender'] == \"F\") & (df['no-show'] == 'No') & df['alcoholism'] == 1].shape[0]\n",
    "\n",
    "noShowMalesalcoholism = df[(df['gender'] == \"M\") & (df['no-show'] == 'Yes') & df['alcoholism'] == 1].shape[0]\n",
    "showMalesalcoholism = df[(df['gender'] == \"M\") & (df['no-show'] == 'No') & df['alcoholism'] == 1].shape[0]\n",
    "\n",
    "data3 = [[noShowFemalealcoholism,showFemalesalcoholism],[noShowMalesalcoholism,showMalesalcoholism]]\n",
    "data3"
   ]
  },
  {
   "cell_type": "code",
   "execution_count": 189,
   "metadata": {},
   "outputs": [
    {
     "data": {
      "image/png": "[encoded data removed]",
      "text/plain": [
       "<Figure size 432x432 with 4 Axes>"
      ]
     },
     "metadata": {
      "needs_background": "light"
     },
     "output_type": "display_data"
    }
   ],
   "source": [
    "g = sns.FacetGrid(df, col=\"gender\",  row=\"no-show\")\n",
    "g = g.map(plt.hist, \"alcoholism\")"
   ]
  },
  {
   "cell_type": "markdown",
   "metadata": {},
   "source": [
    " ####  Analysis  Number of alcoholic patient data using Pie Chart"
   ]
  },
  {
   "cell_type": "code",
   "execution_count": 88,
   "metadata": {
    "scrolled": true
   },
   "outputs": [
    {
     "data": {
      "image/png": "[encoded data removed]",
      "text/plain": [
       "<Figure size 432x288 with 2 Axes>"
      ]
     },
     "metadata": {},
     "output_type": "display_data"
    }
   ],
   "source": [
    "fig = plt.figure()\n",
    "topic =['No','Yes']\n",
    "labels= list(topic)\n",
    "ax1 = fig.add_axes([0, 0, .5, .5], aspect=1)\n",
    "ax1.pie(alcoholism,autopct='%1.1f%%',labels=labels, shadow=True ,radius = 1.2)\n",
    "ax2 = fig.add_axes([.5, .0, .5, .5], aspect=1)\n",
    "ax2.pie(alcoholism1, autopct='%1.1f%%',labels=labels, shadow=True, radius = 1.2)\n",
    "ax1.set_title('No Alcoholism')\n",
    "ax2.set_title('Alcoholism')\n",
    "plt.show()"
   ]
  },
  {
   "cell_type": "markdown",
   "metadata": {},
   "source": [
    ">20.1% patient don't show up appointment don't have Alcoholism , \n",
    ">79.9% patient don't show appointment have Alcoholism,\n",
    ">20.2% patient show up appointment don't have Alcoholism\n",
    ">79.8% patient showed up appointment have Alcoholism."
   ]
  },
  {
   "cell_type": "code",
   "execution_count": 89,
   "metadata": {},
   "outputs": [
    {
     "name": "stdout",
     "output_type": "stream",
     "text": [
      "[[217, 967], [152, 719]]\n"
     ]
    }
   ],
   "source": [
    "noShowFemalehandicap = df[(df['gender'] == \"F\") & (df['no-show'] == 'Yes') & df['handicap'] == 1].shape[0]\n",
    "showFemaleshandicap= df[(df['gender'] == \"F\") & (df['no-show'] == 'No') & df['handicap'] == 1].shape[0]\n",
    "\n",
    "noShowMaleshandicap = df[(df['gender'] == \"M\") & (df['no-show'] == 'Yes') & df['handicap'] == 1].shape[0]\n",
    "showMaleshandicap = df[(df['gender'] == \"M\") & (df['no-show'] == 'No') & df['handicap'] == 1].shape[0]\n",
    "\n",
    "data4 = [[noShowFemalehandicap,showFemaleshandicap],[noShowMaleshandicap,showMaleshandicap]]\n",
    "print(data4)"
   ]
  },
  {
   "cell_type": "code",
   "execution_count": 190,
   "metadata": {},
   "outputs": [
    {
     "data": {
      "image/png": "[encoded data removed]",
      "text/plain": [
       "<Figure size 432x432 with 4 Axes>"
      ]
     },
     "metadata": {
      "needs_background": "light"
     },
     "output_type": "display_data"
    }
   ],
   "source": [
    "g = sns.FacetGrid(df, col=\"gender\",  row=\"no-show\")\n",
    "g = g.map(plt.hist, \"handicap\")"
   ]
  },
  {
   "cell_type": "markdown",
   "metadata": {},
   "source": [
    " ####  Analysis  Number of handicap patient data using Pie Chart"
   ]
  },
  {
   "cell_type": "code",
   "execution_count": 91,
   "metadata": {
    "scrolled": true
   },
   "outputs": [
    {
     "data": {
      "image/png": "[encoded data removed]",
      "text/plain": [
       "<Figure size 432x288 with 2 Axes>"
      ]
     },
     "metadata": {},
     "output_type": "display_data"
    }
   ],
   "source": [
    "fig = plt.figure()\n",
    "topic =['No','Yes']\n",
    "labels= list(topic)\n",
    "ax1 = fig.add_axes([0, 0, .5, .5], aspect=1)\n",
    "ax1.pie(handicap,autopct='%1.1f%%',labels=labels, shadow=True ,radius = 1.2)\n",
    "ax2 = fig.add_axes([.5, .0, .5, .5], aspect=1)\n",
    "ax2.pie(handicap1, autopct='%1.1f%%',labels=labels, shadow=True, radius = 1.2)\n",
    "ax1.set_title(' No Handicap')\n",
    "ax2.set_title('Handicap')\n",
    "plt.show()"
   ]
  },
  {
   "cell_type": "markdown",
   "metadata": {},
   "source": [
    ">17.9% patient don't show up appointment not Handicap,\n",
    ">82.1 %patient don't show appointment have show Handicap,\n",
    ">20.2% patient showup appointment not Handicap .\n",
    ">79.1% patient showedup appointment have show Handicap."
   ]
  },
  {
   "cell_type": "markdown",
   "metadata": {},
   "source": [
    "### Research question 3\n",
    "To find pattern of no-show/show on the basis on scholarship field (whether or not the patient is enrolled for Brasilian welfare program Bolsa Família)? Make suggestion for conducting awareness programs for the same in particular neighbourhood."
   ]
  },
  {
   "cell_type": "code",
   "execution_count": 92,
   "metadata": {},
   "outputs": [
    {
     "data": {
      "text/plain": [
       "[[2106, 6747], [472, 1536]]"
      ]
     },
     "execution_count": 92,
     "metadata": {},
     "output_type": "execute_result"
    }
   ],
   "source": [
    "noShowFemalescholarship = df[(df['gender'] == \"F\") & (df['no-show'] == 'Yes') & df['scholarship'] == 1].shape[0]\n",
    "showFemalesscholarship= df[(df['gender'] == \"F\") & (df['no-show'] == 'No') & df['scholarship'] == 1].shape[0]\n",
    "\n",
    "noShowMalesscholarship = df[(df['gender'] == \"M\") & (df['no-show'] == 'Yes') & df['scholarship'] == 1].shape[0]\n",
    "showMalesscholarship = df[(df['gender'] == \"M\") & (df['no-show'] == 'No') & df['scholarship'] == 1].shape[0]\n",
    "\n",
    "data5 = [[noShowFemalescholarship,showFemalesscholarship],[noShowMalesscholarship,showMalesscholarship]]\n",
    "data5"
   ]
  },
  {
   "cell_type": "code",
   "execution_count": 191,
   "metadata": {},
   "outputs": [
    {
     "data": {
      "image/png": "[encoded data removed]",
      "text/plain": [
       "<Figure size 432x432 with 4 Axes>"
      ]
     },
     "metadata": {
      "needs_background": "light"
     },
     "output_type": "display_data"
    }
   ],
   "source": [
    "g = sns.FacetGrid(df, col=\"gender\",  row=\"no-show\")\n",
    "g = g.map(plt.hist, \"scholarship\")"
   ]
  },
  {
   "cell_type": "markdown",
   "metadata": {},
   "source": [
    "> Clearly people getting scholarship are going for there appointments."
   ]
  },
  {
   "cell_type": "markdown",
   "metadata": {},
   "source": [
    "### Research question 4\n",
    "\n",
    "To analyse the dataset on the basis of gender and age who have missed their appointment?"
   ]
  },
  {
   "cell_type": "code",
   "execution_count": 93,
   "metadata": {
    "scrolled": false
   },
   "outputs": [
    {
     "data": {
      "text/html": [
       "<div>\n",
       "<style scoped>\n",
       "    .dataframe tbody tr th:only-of-type {\n",
       "        vertical-align: middle;\n",
       "    }\n",
       "\n",
       "    .dataframe tbody tr th {\n",
       "        vertical-align: top;\n",
       "    }\n",
       "\n",
       "    .dataframe thead th {\n",
       "        text-align: right;\n",
       "    }\n",
       "</style>\n",
       "<table border=\"1\" class=\"dataframe\">\n",
       "  <thead>\n",
       "    <tr style=\"text-align: right;\">\n",
       "      <th></th>\n",
       "      <th>count</th>\n",
       "      <th>mean</th>\n",
       "      <th>std</th>\n",
       "      <th>min</th>\n",
       "      <th>25%</th>\n",
       "      <th>50%</th>\n",
       "      <th>75%</th>\n",
       "      <th>max</th>\n",
       "    </tr>\n",
       "    <tr>\n",
       "      <th>gender</th>\n",
       "      <th></th>\n",
       "      <th></th>\n",
       "      <th></th>\n",
       "      <th></th>\n",
       "      <th></th>\n",
       "      <th></th>\n",
       "      <th></th>\n",
       "      <th></th>\n",
       "    </tr>\n",
       "  </thead>\n",
       "  <tbody>\n",
       "    <tr>\n",
       "      <th>F</th>\n",
       "      <td>71840.0</td>\n",
       "      <td>10.032178</td>\n",
       "      <td>15.465964</td>\n",
       "      <td>-6.575926</td>\n",
       "      <td>-0.337882</td>\n",
       "      <td>3.663617</td>\n",
       "      <td>14.576751</td>\n",
       "      <td>178.554873</td>\n",
       "    </tr>\n",
       "    <tr>\n",
       "      <th>M</th>\n",
       "      <td>38687.0</td>\n",
       "      <td>9.123970</td>\n",
       "      <td>14.805326</td>\n",
       "      <td>-1.452697</td>\n",
       "      <td>-0.361788</td>\n",
       "      <td>2.548623</td>\n",
       "      <td>13.540295</td>\n",
       "      <td>178.553079</td>\n",
       "    </tr>\n",
       "  </tbody>\n",
       "</table>\n",
       "</div>"
      ],
      "text/plain": [
       "          count       mean        std       min       25%       50%  \\\n",
       "gender                                                                \n",
       "F       71840.0  10.032178  15.465964 -6.575926 -0.337882  3.663617   \n",
       "M       38687.0   9.123970  14.805326 -1.452697 -0.361788  2.548623   \n",
       "\n",
       "              75%         max  \n",
       "gender                         \n",
       "F       14.576751  178.554873  \n",
       "M       13.540295  178.553079  "
      ]
     },
     "execution_count": 93,
     "metadata": {},
     "output_type": "execute_result"
    }
   ],
   "source": [
    "app = df.groupby('gender')['appointmentdaydelay']\n",
    "app.describe()"
   ]
  },
  {
   "cell_type": "code",
   "execution_count": 94,
   "metadata": {
    "scrolled": true
   },
   "outputs": [
    {
     "data": {
      "text/plain": [
       "count    104.000000\n",
       "mean       9.961730\n",
       "std        2.991169\n",
       "min       -0.407338\n",
       "25%        9.255452\n",
       "50%        9.651583\n",
       "75%       10.632276\n",
       "max       29.064433\n",
       "Name: appointmentdaydelay, dtype: float64"
      ]
     },
     "execution_count": 94,
     "metadata": {},
     "output_type": "execute_result"
    }
   ],
   "source": [
    "ag = df.groupby('age')['appointmentdaydelay'].mean()\n",
    "ag.describe()"
   ]
  },
  {
   "cell_type": "markdown",
   "metadata": {},
   "source": [
    "Ans:Total number of female delay their appointment :71840\n",
    "    Total number of males delay their appointment : 38687,so we can say that number of female missed   the appointment frequently.\n",
    "   out of age 50% only 10% missed the appointment and more than 75% only 11% delay appointment \n",
    "   "
   ]
  },
  {
   "cell_type": "markdown",
   "metadata": {},
   "source": [
    "### Research question 5\n",
    "To predict what factor do the patients mostly miss their appointment on?\n"
   ]
  },
  {
   "cell_type": "markdown",
   "metadata": {},
   "source": [
    "Ans: Factor Responsible for delay in appointment:\n",
    " 1.Due to school number of child delay there appointment.\n",
    " \n",
    " 2.lack of transportation .\n",
    " \n",
    " 3.Patient missed their appointment due to their working hours and emergency.\n",
    " \n",
    " 4.lacks of interaction (sms send and recieved by patient).\n",
    "\n",
    " 5.Patient Doesn’t care/no longer urgent need of medical attension."
   ]
  },
  {
   "cell_type": "markdown",
   "metadata": {},
   "source": [
    "### Research question 6\n",
    "To investigate the datast based on whether Appointment sms_received by patient or not and if this affects show/no-show?\n"
   ]
  },
  {
   "cell_type": "code",
   "execution_count": 95,
   "metadata": {
    "scrolled": true
   },
   "outputs": [
    {
     "data": {
      "text/plain": [
       "count    110527.000000\n",
       "mean          0.321026\n",
       "std           0.466873\n",
       "min           0.000000\n",
       "25%           0.000000\n",
       "50%           0.000000\n",
       "75%           1.000000\n",
       "max           1.000000\n",
       "Name: sms_received, dtype: float64"
      ]
     },
     "execution_count": 95,
     "metadata": {},
     "output_type": "execute_result"
    }
   ],
   "source": [
    "ai = df.groupby('appointmentid')['sms_received'].mean()\n",
    "ai.describe()"
   ]
  },
  {
   "cell_type": "code",
   "execution_count": 96,
   "metadata": {},
   "outputs": [
    {
     "data": {
      "text/plain": [
       "count    61744.000000\n",
       "mean         0.330160\n",
       "std          0.418713\n",
       "min          0.000000\n",
       "25%          0.000000\n",
       "50%          0.000000\n",
       "75%          0.666667\n",
       "max          1.000000\n",
       "Name: sms_received, dtype: float64"
      ]
     },
     "execution_count": 96,
     "metadata": {},
     "output_type": "execute_result"
    }
   ],
   "source": [
    "pi = df.groupby('patientid')['sms_received'].mean()\n",
    "pi.describe()"
   ]
  },
  {
   "cell_type": "code",
   "execution_count": 97,
   "metadata": {},
   "outputs": [
    {
     "data": {
      "text/plain": [
       "no-show  sms_received\n",
       "No       0               62510\n",
       "         1               25698\n",
       "Yes      0               12535\n",
       "         1                9784\n",
       "Name: no-show-number, dtype: int64"
      ]
     },
     "execution_count": 97,
     "metadata": {},
     "output_type": "execute_result"
    }
   ],
   "source": [
    "df.groupby(['no-show', 'sms_received'])[\"no-show-number\"].apply(lambda x : x.astype(int).count().sum())"
   ]
  },
  {
   "cell_type": "code",
   "execution_count": 140,
   "metadata": {
    "scrolled": false
   },
   "outputs": [
    {
     "data": {
      "image/png": "[encoded data removed]",
      "text/plain": [
       "<Figure size 720x360 with 2 Axes>"
      ]
     },
     "metadata": {
      "needs_background": "light"
     },
     "output_type": "display_data"
    }
   ],
   "source": [
    "g = sns.catplot(x=\"no-show\", col=\"sms_received\",\n",
    "                data = df, kind=\"count\"  )"
   ]
  },
  {
   "cell_type": "markdown",
   "metadata": {},
   "source": [
    "  Ans: Appointment id issue by hospital  at 75% only 1% patient received sms.show lack of interaction between patient and health care staff."
   ]
  },
  {
   "cell_type": "markdown",
   "metadata": {},
   "source": [
    "> 62510 patient showed up to their appointment and sms_received.\n",
    ">12535 patient showed to up their appointment snd sms_recieved.\n",
    ">25698 patient they did not show up not received sms.\n",
    ">9784 patient they did not show up not recieved sms.\n"
   ]
  },
  {
   "cell_type": "markdown",
   "metadata": {},
   "source": [
    "### Research question 7\n",
    "\n",
    "To investigate whether Handicap patient having a regular check up or appointment Sms_recieved or they missed the appointment?\n"
   ]
  },
  {
   "cell_type": "code",
   "execution_count": 99,
   "metadata": {
    "scrolled": true
   },
   "outputs": [
    {
     "data": {
      "text/plain": [
       "0    108286\n",
       "1      2042\n",
       "2       183\n",
       "3        13\n",
       "4         3\n",
       "Name: handicap, dtype: int64"
      ]
     },
     "execution_count": 99,
     "metadata": {},
     "output_type": "execute_result"
    }
   ],
   "source": [
    "df.handicap.value_counts()"
   ]
  },
  {
   "cell_type": "code",
   "execution_count": 100,
   "metadata": {
    "scrolled": true
   },
   "outputs": [
    {
     "data": {
      "text/plain": [
       "count    5.000000\n",
       "mean     0.272253\n",
       "std      0.051145\n",
       "min      0.230769\n",
       "25%      0.234973\n",
       "50%      0.239471\n",
       "75%      0.322719\n",
       "max      0.333333\n",
       "Name: sms_received, dtype: float64"
      ]
     },
     "execution_count": 100,
     "metadata": {},
     "output_type": "execute_result"
    }
   ],
   "source": [
    "hn= df.groupby('handicap')['sms_received'].mean()\n",
    "hn.describe()"
   ]
  },
  {
   "cell_type": "code",
   "execution_count": 101,
   "metadata": {},
   "outputs": [
    {
     "data": {
      "image/png": "[encoded data removed]",
      "text/plain": [
       "<Figure size 720x360 with 2 Axes>"
      ]
     },
     "metadata": {
      "needs_background": "light"
     },
     "output_type": "display_data"
    }
   ],
   "source": [
    "g = sns.catplot(x=\"handicap\", col=\"no-show\",\n",
    "                data = df, kind=\"count\",\n",
    "                )"
   ]
  },
  {
   "cell_type": "code",
   "execution_count": 144,
   "metadata": {},
   "outputs": [
    {
     "data": {
      "image/png": "[encoded data removed]",
      "text/plain": [
       "<Figure size 720x360 with 2 Axes>"
      ]
     },
     "metadata": {
      "needs_background": "light"
     },
     "output_type": "display_data"
    }
   ],
   "source": [
    "g = sns.catplot(x=\"handicap\", col=\"sms_received\",\n",
    "                data = df, kind=\"count\",\n",
    "                )"
   ]
  },
  {
   "cell_type": "code",
   "execution_count": 141,
   "metadata": {},
   "outputs": [
    {
     "data": {
      "text/plain": [
       "count    5.000000\n",
       "mean     7.494811\n",
       "std      1.619675\n",
       "min      5.419781\n",
       "25%      6.702153\n",
       "50%      7.445540\n",
       "75%      8.146265\n",
       "max      9.760316\n",
       "Name: appointmentdaydelay, dtype: float64"
      ]
     },
     "execution_count": 141,
     "metadata": {},
     "output_type": "execute_result"
    }
   ],
   "source": [
    "handicap= df.groupby('handicap')['appointmentdaydelay'].mean()\n",
    "handicap.describe()"
   ]
  },
  {
   "cell_type": "markdown",
   "metadata": {},
   "source": [
    "Ans:Analyzing above data show that .3 % handicap send sms by hospital and approx 8% show delay in appointment."
   ]
  },
  {
   "cell_type": "markdown",
   "metadata": {},
   "source": [
    "### Research question 8\n",
    "\n",
    "Find no. of unique patients in each neighbourhood"
   ]
  },
  {
   "cell_type": "code",
   "execution_count": 104,
   "metadata": {},
   "outputs": [
    {
     "name": "stdout",
     "output_type": "stream",
     "text": [
      "(array(['AEROPORTO', 'ANDORINHAS', 'ANT\\xc3\\x94NIO HON\\xc3\\x93RIO',\n",
      "       'ARIOVALDO FAVALESSA', 'BARRO VERMELHO', 'BELA VISTA',\n",
      "       'BENTO FERREIRA', 'BOA VISTA', 'BONFIM', 'CARATO\\xc3\\x8dRA',\n",
      "       'CENTRO', 'COMDUSA', 'CONQUISTA', 'CONSOLA\\xc3\\x87\\xc3\\x83O',\n",
      "       'CRUZAMENTO', 'DA PENHA', 'DE LOURDES', 'DO CABRAL', 'DO MOSCOSO',\n",
      "       'DO QUADRO', 'ENSEADA DO SU\\xc3\\x81', 'ESTRELINHA', 'FONTE GRANDE',\n",
      "       'FORTE S\\xc3\\x83O JO\\xc3\\x83O', 'FRADINHOS', 'GOIABEIRAS',\n",
      "       'GRANDE VIT\\xc3\\x93RIA', 'GURIGICA', 'HORTO', 'ILHA DAS CAIEIRAS',\n",
      "       'ILHA DE SANTA MARIA', 'ILHA DO BOI', 'ILHA DO FRADE',\n",
      "       'ILHA DO PR\\xc3\\x8dNCIPE', 'ILHAS OCE\\xc3\\x82NICAS DE TRINDADE',\n",
      "       'INHANGUET\\xc3\\x81', 'ITARAR\\xc3\\x89', 'JABOUR', 'JARDIM CAMBURI',\n",
      "       'JARDIM DA PENHA', 'JESUS DE NAZARETH', 'JOANA D\\xc2\\xb4ARC',\n",
      "       'JUCUTUQUARA', 'MARIA ORTIZ', 'MARU\\xc3\\x8dPE', 'MATA DA PRAIA',\n",
      "       'MONTE BELO', 'MORADA DE CAMBURI', 'M\\xc3\\x81RIO CYPRESTE',\n",
      "       'NAZARETH', 'NOVA PALESTINA', 'PARQUE INDUSTRIAL',\n",
      "       'PARQUE MOSCOSO', 'PIEDADE', 'PONTAL DE CAMBURI', 'PRAIA DO CANTO',\n",
      "       'PRAIA DO SU\\xc3\\x81', 'REDEN\\xc3\\x87\\xc3\\x83O',\n",
      "       'REP\\xc3\\x9aBLICA', 'RESIST\\xc3\\x8aNCIA', 'ROM\\xc3\\x83O',\n",
      "       'SANTA CEC\\xc3\\x8dLIA', 'SANTA CLARA', 'SANTA HELENA',\n",
      "       'SANTA LU\\xc3\\x8dZA', 'SANTA L\\xc3\\x9aCIA', 'SANTA MARTHA',\n",
      "       'SANTA TEREZA', 'SANTO ANDR\\xc3\\x89', 'SANTO ANT\\xc3\\x94NIO',\n",
      "       'SANTOS DUMONT', 'SANTOS REIS', 'SEGURAN\\xc3\\x87A DO LAR',\n",
      "       'SOLON BORGES', 'S\\xc3\\x83O BENEDITO',\n",
      "       'S\\xc3\\x83O CRIST\\xc3\\x93V\\xc3\\x83O', 'S\\xc3\\x83O JOS\\xc3\\x89',\n",
      "       'S\\xc3\\x83O PEDRO', 'TABUAZEIRO', 'UNIVERSIT\\xc3\\x81RIO',\n",
      "       'VILA RUBIM'], dtype=object), array([   8, 2262,  271,  282,  423, 1907,  858,  312, 2773, 2565, 3334,\n",
      "        310,  849, 1376, 1398, 2217,  305,  560,  413,  849,  235,  538,\n",
      "        682, 1889,  258,  700, 1071, 2018,  175, 1071, 1885,   35,   10,\n",
      "       2266,    2, 1057, 3514, 2509, 7717, 3877, 2853, 1427,  694, 5805,\n",
      "       1902,  644,  824,   96,  371,  135, 2264,    1,  802,  452,   69,\n",
      "       1035, 1288, 1553,  835, 4431, 2215,  448,  506,  178,  428,  438,\n",
      "       3131, 1332, 2571, 2746, 1276,  547,  145,  469, 1439, 1836, 1977,\n",
      "       2448, 3132,  152,  851], dtype=int64))\n"
     ]
    }
   ],
   "source": [
    "counts = np.unique(df['neighbourhood'], return_counts=True)\n",
    "print counts"
   ]
  },
  {
   "cell_type": "code",
   "execution_count": 105,
   "metadata": {},
   "outputs": [
    {
     "data": {
      "text/html": [
       "<div>\n",
       "<style scoped>\n",
       "    .dataframe tbody tr th:only-of-type {\n",
       "        vertical-align: middle;\n",
       "    }\n",
       "\n",
       "    .dataframe tbody tr th {\n",
       "        vertical-align: top;\n",
       "    }\n",
       "\n",
       "    .dataframe thead th {\n",
       "        text-align: right;\n",
       "    }\n",
       "</style>\n",
       "<table border=\"1\" class=\"dataframe\">\n",
       "  <thead>\n",
       "    <tr style=\"text-align: right;\">\n",
       "      <th></th>\n",
       "      <th>no-show</th>\n",
       "      <th>neighbourhood</th>\n",
       "      <th>no-show-number</th>\n",
       "    </tr>\n",
       "  </thead>\n",
       "  <tbody>\n",
       "    <tr>\n",
       "      <th>37</th>\n",
       "      <td>No</td>\n",
       "      <td>JARDIM CAMBURI</td>\n",
       "      <td>6252</td>\n",
       "    </tr>\n",
       "    <tr>\n",
       "      <th>42</th>\n",
       "      <td>No</td>\n",
       "      <td>MARIA ORTIZ</td>\n",
       "      <td>4586</td>\n",
       "    </tr>\n",
       "    <tr>\n",
       "      <th>58</th>\n",
       "      <td>No</td>\n",
       "      <td>RESISTÊNCIA</td>\n",
       "      <td>3525</td>\n",
       "    </tr>\n",
       "    <tr>\n",
       "      <th>38</th>\n",
       "      <td>No</td>\n",
       "      <td>JARDIM DA PENHA</td>\n",
       "      <td>3246</td>\n",
       "    </tr>\n",
       "    <tr>\n",
       "      <th>65</th>\n",
       "      <td>No</td>\n",
       "      <td>SANTA MARTHA</td>\n",
       "      <td>2635</td>\n",
       "    </tr>\n",
       "    <tr>\n",
       "      <th>10</th>\n",
       "      <td>No</td>\n",
       "      <td>CENTRO</td>\n",
       "      <td>2631</td>\n",
       "    </tr>\n",
       "    <tr>\n",
       "      <th>35</th>\n",
       "      <td>No</td>\n",
       "      <td>ITARARÉ</td>\n",
       "      <td>2591</td>\n",
       "    </tr>\n",
       "    <tr>\n",
       "      <th>77</th>\n",
       "      <td>No</td>\n",
       "      <td>TABUAZEIRO</td>\n",
       "      <td>2559</td>\n",
       "    </tr>\n",
       "    <tr>\n",
       "      <th>68</th>\n",
       "      <td>No</td>\n",
       "      <td>SANTO ANTÔNIO</td>\n",
       "      <td>2262</td>\n",
       "    </tr>\n",
       "    <tr>\n",
       "      <th>8</th>\n",
       "      <td>No</td>\n",
       "      <td>BONFIM</td>\n",
       "      <td>2223</td>\n",
       "    </tr>\n",
       "    <tr>\n",
       "      <th>39</th>\n",
       "      <td>No</td>\n",
       "      <td>JESUS DE NAZARETH</td>\n",
       "      <td>2157</td>\n",
       "    </tr>\n",
       "    <tr>\n",
       "      <th>67</th>\n",
       "      <td>No</td>\n",
       "      <td>SANTO ANDRÉ</td>\n",
       "      <td>2063</td>\n",
       "    </tr>\n",
       "    <tr>\n",
       "      <th>36</th>\n",
       "      <td>No</td>\n",
       "      <td>JABOUR</td>\n",
       "      <td>2058</td>\n",
       "    </tr>\n",
       "    <tr>\n",
       "      <th>9</th>\n",
       "      <td>No</td>\n",
       "      <td>CARATOÍRA</td>\n",
       "      <td>1974</td>\n",
       "    </tr>\n",
       "    <tr>\n",
       "      <th>76</th>\n",
       "      <td>No</td>\n",
       "      <td>SÃO PEDRO</td>\n",
       "      <td>1933</td>\n",
       "    </tr>\n",
       "    <tr>\n",
       "      <th>49</th>\n",
       "      <td>No</td>\n",
       "      <td>NOVA PALESTINA</td>\n",
       "      <td>1862</td>\n",
       "    </tr>\n",
       "    <tr>\n",
       "      <th>15</th>\n",
       "      <td>No</td>\n",
       "      <td>DA PENHA</td>\n",
       "      <td>1788</td>\n",
       "    </tr>\n",
       "    <tr>\n",
       "      <th>1</th>\n",
       "      <td>No</td>\n",
       "      <td>ANDORINHAS</td>\n",
       "      <td>1741</td>\n",
       "    </tr>\n",
       "    <tr>\n",
       "      <th>59</th>\n",
       "      <td>No</td>\n",
       "      <td>ROMÃO</td>\n",
       "      <td>1741</td>\n",
       "    </tr>\n",
       "    <tr>\n",
       "      <th>33</th>\n",
       "      <td>No</td>\n",
       "      <td>ILHA DO PRÍNCIPE</td>\n",
       "      <td>1734</td>\n",
       "    </tr>\n",
       "    <tr>\n",
       "      <th>27</th>\n",
       "      <td>No</td>\n",
       "      <td>GURIGICA</td>\n",
       "      <td>1562</td>\n",
       "    </tr>\n",
       "    <tr>\n",
       "      <th>75</th>\n",
       "      <td>No</td>\n",
       "      <td>SÃO JOSÉ</td>\n",
       "      <td>1549</td>\n",
       "    </tr>\n",
       "    <tr>\n",
       "      <th>23</th>\n",
       "      <td>No</td>\n",
       "      <td>FORTE SÃO JOÃO</td>\n",
       "      <td>1543</td>\n",
       "    </tr>\n",
       "    <tr>\n",
       "      <th>30</th>\n",
       "      <td>No</td>\n",
       "      <td>ILHA DE SANTA MARIA</td>\n",
       "      <td>1524</td>\n",
       "    </tr>\n",
       "    <tr>\n",
       "      <th>5</th>\n",
       "      <td>No</td>\n",
       "      <td>BELA VISTA</td>\n",
       "      <td>1523</td>\n",
       "    </tr>\n",
       "    <tr>\n",
       "      <th>43</th>\n",
       "      <td>No</td>\n",
       "      <td>MARUÍPE</td>\n",
       "      <td>1478</td>\n",
       "    </tr>\n",
       "    <tr>\n",
       "      <th>74</th>\n",
       "      <td>No</td>\n",
       "      <td>SÃO CRISTÓVÃO</td>\n",
       "      <td>1473</td>\n",
       "    </tr>\n",
       "    <tr>\n",
       "      <th>118</th>\n",
       "      <td>Yes</td>\n",
       "      <td>JARDIM CAMBURI</td>\n",
       "      <td>1465</td>\n",
       "    </tr>\n",
       "    <tr>\n",
       "      <th>56</th>\n",
       "      <td>No</td>\n",
       "      <td>REDENÇÃO</td>\n",
       "      <td>1278</td>\n",
       "    </tr>\n",
       "    <tr>\n",
       "      <th>123</th>\n",
       "      <td>Yes</td>\n",
       "      <td>MARIA ORTIZ</td>\n",
       "      <td>1219</td>\n",
       "    </tr>\n",
       "    <tr>\n",
       "      <th>...</th>\n",
       "      <td>...</td>\n",
       "      <td>...</td>\n",
       "      <td>...</td>\n",
       "    </tr>\n",
       "    <tr>\n",
       "      <th>132</th>\n",
       "      <td>Yes</td>\n",
       "      <td>PIEDADE</td>\n",
       "      <td>88</td>\n",
       "    </tr>\n",
       "    <tr>\n",
       "      <th>97</th>\n",
       "      <td>Yes</td>\n",
       "      <td>DO CABRAL</td>\n",
       "      <td>88</td>\n",
       "    </tr>\n",
       "    <tr>\n",
       "      <th>144</th>\n",
       "      <td>Yes</td>\n",
       "      <td>SANTA LÚCIA</td>\n",
       "      <td>86</td>\n",
       "    </tr>\n",
       "    <tr>\n",
       "      <th>46</th>\n",
       "      <td>No</td>\n",
       "      <td>MORADA DE CAMBURI</td>\n",
       "      <td>80</td>\n",
       "    </tr>\n",
       "    <tr>\n",
       "      <th>143</th>\n",
       "      <td>Yes</td>\n",
       "      <td>SANTA LUÍZA</td>\n",
       "      <td>77</td>\n",
       "    </tr>\n",
       "    <tr>\n",
       "      <th>152</th>\n",
       "      <td>Yes</td>\n",
       "      <td>SOLON BORGES</td>\n",
       "      <td>69</td>\n",
       "    </tr>\n",
       "    <tr>\n",
       "      <th>83</th>\n",
       "      <td>Yes</td>\n",
       "      <td>ARIOVALDO FAVALESSA</td>\n",
       "      <td>62</td>\n",
       "    </tr>\n",
       "    <tr>\n",
       "      <th>87</th>\n",
       "      <td>Yes</td>\n",
       "      <td>BOA VISTA</td>\n",
       "      <td>58</td>\n",
       "    </tr>\n",
       "    <tr>\n",
       "      <th>53</th>\n",
       "      <td>No</td>\n",
       "      <td>PONTAL DE CAMBURI</td>\n",
       "      <td>57</td>\n",
       "    </tr>\n",
       "    <tr>\n",
       "      <th>91</th>\n",
       "      <td>Yes</td>\n",
       "      <td>COMDUSA</td>\n",
       "      <td>56</td>\n",
       "    </tr>\n",
       "    <tr>\n",
       "      <th>128</th>\n",
       "      <td>Yes</td>\n",
       "      <td>MÁRIO CYPRESTE</td>\n",
       "      <td>54</td>\n",
       "    </tr>\n",
       "    <tr>\n",
       "      <th>100</th>\n",
       "      <td>Yes</td>\n",
       "      <td>ENSEADA DO SUÁ</td>\n",
       "      <td>52</td>\n",
       "    </tr>\n",
       "    <tr>\n",
       "      <th>82</th>\n",
       "      <td>Yes</td>\n",
       "      <td>ANTÔNIO HONÓRIO</td>\n",
       "      <td>50</td>\n",
       "    </tr>\n",
       "    <tr>\n",
       "      <th>104</th>\n",
       "      <td>Yes</td>\n",
       "      <td>FRADINHOS</td>\n",
       "      <td>48</td>\n",
       "    </tr>\n",
       "    <tr>\n",
       "      <th>96</th>\n",
       "      <td>Yes</td>\n",
       "      <td>DE LOURDES</td>\n",
       "      <td>47</td>\n",
       "    </tr>\n",
       "    <tr>\n",
       "      <th>108</th>\n",
       "      <td>Yes</td>\n",
       "      <td>HORTO</td>\n",
       "      <td>42</td>\n",
       "    </tr>\n",
       "    <tr>\n",
       "      <th>142</th>\n",
       "      <td>Yes</td>\n",
       "      <td>SANTA HELENA</td>\n",
       "      <td>37</td>\n",
       "    </tr>\n",
       "    <tr>\n",
       "      <th>31</th>\n",
       "      <td>No</td>\n",
       "      <td>ILHA DO BOI</td>\n",
       "      <td>32</td>\n",
       "    </tr>\n",
       "    <tr>\n",
       "      <th>158</th>\n",
       "      <td>Yes</td>\n",
       "      <td>UNIVERSITÁRIO</td>\n",
       "      <td>32</td>\n",
       "    </tr>\n",
       "    <tr>\n",
       "      <th>129</th>\n",
       "      <td>Yes</td>\n",
       "      <td>NAZARETH</td>\n",
       "      <td>29</td>\n",
       "    </tr>\n",
       "    <tr>\n",
       "      <th>151</th>\n",
       "      <td>Yes</td>\n",
       "      <td>SEGURANÇA DO LAR</td>\n",
       "      <td>28</td>\n",
       "    </tr>\n",
       "    <tr>\n",
       "      <th>127</th>\n",
       "      <td>Yes</td>\n",
       "      <td>MORADA DE CAMBURI</td>\n",
       "      <td>16</td>\n",
       "    </tr>\n",
       "    <tr>\n",
       "      <th>133</th>\n",
       "      <td>Yes</td>\n",
       "      <td>PONTAL DE CAMBURI</td>\n",
       "      <td>12</td>\n",
       "    </tr>\n",
       "    <tr>\n",
       "      <th>32</th>\n",
       "      <td>No</td>\n",
       "      <td>ILHA DO FRADE</td>\n",
       "      <td>8</td>\n",
       "    </tr>\n",
       "    <tr>\n",
       "      <th>0</th>\n",
       "      <td>No</td>\n",
       "      <td>AEROPORTO</td>\n",
       "      <td>7</td>\n",
       "    </tr>\n",
       "    <tr>\n",
       "      <th>111</th>\n",
       "      <td>Yes</td>\n",
       "      <td>ILHA DO BOI</td>\n",
       "      <td>3</td>\n",
       "    </tr>\n",
       "    <tr>\n",
       "      <th>114</th>\n",
       "      <td>Yes</td>\n",
       "      <td>ILHAS OCEÂNICAS DE TRINDADE</td>\n",
       "      <td>2</td>\n",
       "    </tr>\n",
       "    <tr>\n",
       "      <th>112</th>\n",
       "      <td>Yes</td>\n",
       "      <td>ILHA DO FRADE</td>\n",
       "      <td>2</td>\n",
       "    </tr>\n",
       "    <tr>\n",
       "      <th>50</th>\n",
       "      <td>No</td>\n",
       "      <td>PARQUE INDUSTRIAL</td>\n",
       "      <td>1</td>\n",
       "    </tr>\n",
       "    <tr>\n",
       "      <th>80</th>\n",
       "      <td>Yes</td>\n",
       "      <td>AEROPORTO</td>\n",
       "      <td>1</td>\n",
       "    </tr>\n",
       "  </tbody>\n",
       "</table>\n",
       "<p>160 rows × 3 columns</p>\n",
       "</div>"
      ],
      "text/plain": [
       "    no-show                neighbourhood  no-show-number\n",
       "37       No               JARDIM CAMBURI            6252\n",
       "42       No                  MARIA ORTIZ            4586\n",
       "58       No                  RESISTÊNCIA            3525\n",
       "38       No              JARDIM DA PENHA            3246\n",
       "65       No                 SANTA MARTHA            2635\n",
       "10       No                       CENTRO            2631\n",
       "35       No                      ITARARÉ            2591\n",
       "77       No                   TABUAZEIRO            2559\n",
       "68       No                SANTO ANTÔNIO            2262\n",
       "8        No                       BONFIM            2223\n",
       "39       No            JESUS DE NAZARETH            2157\n",
       "67       No                  SANTO ANDRÉ            2063\n",
       "36       No                       JABOUR            2058\n",
       "9        No                    CARATOÍRA            1974\n",
       "76       No                    SÃO PEDRO            1933\n",
       "49       No               NOVA PALESTINA            1862\n",
       "15       No                     DA PENHA            1788\n",
       "1        No                   ANDORINHAS            1741\n",
       "59       No                        ROMÃO            1741\n",
       "33       No             ILHA DO PRÍNCIPE            1734\n",
       "27       No                     GURIGICA            1562\n",
       "75       No                     SÃO JOSÉ            1549\n",
       "23       No               FORTE SÃO JOÃO            1543\n",
       "30       No          ILHA DE SANTA MARIA            1524\n",
       "5        No                   BELA VISTA            1523\n",
       "43       No                      MARUÍPE            1478\n",
       "74       No                SÃO CRISTÓVÃO            1473\n",
       "118     Yes               JARDIM CAMBURI            1465\n",
       "56       No                     REDENÇÃO            1278\n",
       "123     Yes                  MARIA ORTIZ            1219\n",
       "..      ...                          ...             ...\n",
       "132     Yes                      PIEDADE              88\n",
       "97      Yes                    DO CABRAL              88\n",
       "144     Yes                  SANTA LÚCIA              86\n",
       "46       No            MORADA DE CAMBURI              80\n",
       "143     Yes                  SANTA LUÍZA              77\n",
       "152     Yes                 SOLON BORGES              69\n",
       "83      Yes          ARIOVALDO FAVALESSA              62\n",
       "87      Yes                    BOA VISTA              58\n",
       "53       No            PONTAL DE CAMBURI              57\n",
       "91      Yes                      COMDUSA              56\n",
       "128     Yes               MÁRIO CYPRESTE              54\n",
       "100     Yes               ENSEADA DO SUÁ              52\n",
       "82      Yes              ANTÔNIO HONÓRIO              50\n",
       "104     Yes                    FRADINHOS              48\n",
       "96      Yes                   DE LOURDES              47\n",
       "108     Yes                        HORTO              42\n",
       "142     Yes                 SANTA HELENA              37\n",
       "31       No                  ILHA DO BOI              32\n",
       "158     Yes                UNIVERSITÁRIO              32\n",
       "129     Yes                     NAZARETH              29\n",
       "151     Yes             SEGURANÇA DO LAR              28\n",
       "127     Yes            MORADA DE CAMBURI              16\n",
       "133     Yes            PONTAL DE CAMBURI              12\n",
       "32       No                ILHA DO FRADE               8\n",
       "0        No                    AEROPORTO               7\n",
       "111     Yes                  ILHA DO BOI               3\n",
       "114     Yes  ILHAS OCEÂNICAS DE TRINDADE               2\n",
       "112     Yes                ILHA DO FRADE               2\n",
       "50       No            PARQUE INDUSTRIAL               1\n",
       "80      Yes                    AEROPORTO               1\n",
       "\n",
       "[160 rows x 3 columns]"
      ]
     },
     "execution_count": 105,
     "metadata": {},
     "output_type": "execute_result"
    }
   ],
   "source": [
    "ne =df.groupby(['no-show', 'neighbourhood'])[\"no-show-number\"].apply(lambda x : x.astype(int).count().sum()).reset_index()\n",
    "ne.sort_values('no-show-number', ascending=False)\n",
    "#ne.nlargest(3, 'No')\n"
   ]
  },
  {
   "cell_type": "markdown",
   "metadata": {},
   "source": [
    "JARDIM CAMBURI 6252 1465\n"
   ]
  },
  {
   "cell_type": "code",
   "execution_count": 108,
   "metadata": {},
   "outputs": [
    {
     "data": {
      "image/png": "[encoded data removed]",
      "text/plain": [
       "<Figure size 1440x432 with 1 Axes>"
      ]
     },
     "metadata": {
      "needs_background": "light"
     },
     "output_type": "display_data"
    }
   ],
   "source": [
    "x = ne.plot(kind='bar', figsize=(20,6), color='brown',fontsize=7,width=0.85)\n",
    "plt.title('Neighbourhood No Show ',fontsize=20)\n",
    "plt.xlabel('Neighbourhood', fontsize=16)\n",
    "plt.ylabel('No-show-Number', fontsize=16)\n",
    "plt.show()"
   ]
  },
  {
   "cell_type": "markdown",
   "metadata": {},
   "source": [
    "Ans: 1. ILHAS OCEÂNICAS DE TRINDADE, SANTA CECÍLIA  neighbourhood has the worst delays\n",
    "2. PARQUE INDUSTRIAL has no delays "
   ]
  },
  {
   "cell_type": "markdown",
   "metadata": {},
   "source": [
    "### Research question 9\n",
    "To analysis the data showing the disease trends occur in the small population ?\n",
    "\n",
    "Ans: Disease trend in given dataset show that now a day number of hypertension patient is increased and people having diabetes also increase ."
   ]
  },
  {
   "cell_type": "code",
   "execution_count": 110,
   "metadata": {},
   "outputs": [
    {
     "data": {
      "text/plain": [
       "Text(0.5,0,'Female Patients')"
      ]
     },
     "execution_count": 110,
     "metadata": {},
     "output_type": "execute_result"
    },
    {
     "data": {
      "image/png": "[encoded data removed]",
      "text/plain": [
       "<Figure size 432x288 with 1 Axes>"
      ]
     },
     "metadata": {
      "needs_background": "light"
     },
     "output_type": "display_data"
    }
   ],
   "source": [
    "noShowFemalePatient = pd.Series([noShowFemaleHyperTension,noShowFemalediabetes,noShowFemalehandicap,noShowFemalescholarship, noShowFemalealcoholism])\n",
    "totalFemalePatient = pd.Series([showFemalesHyperTension + noShowFemaleHyperTension, showFemalesdiabetes + noShowFemalediabetes, showFemaleshandicap + noShowFemalehandicap,showFemalesscholarship + noShowFemalescholarship, noShowFemalealcoholism + noShowFemalealcoholism])\n",
    "noShowMalePatient = pd.Series([noShowMalesHyperTension,noShowMalesdiabetes,noShowMaleshandicap,noShowMalesscholarship,noShowMalesalcoholism])\n",
    "totalMalePatient = pd.Series([noShowMalesHyperTension +showMalesHyperTension,noShowMalesdiabetes +showMalesdiabetes,noShowMaleshandicap +showMaleshandicap,noShowMalesscholarship +showMalesscholarship, noShowMalesalcoholism + showMalesalcoholism])\n",
    "\n",
    "r = [0,1,2,3,4]\n",
    "barWidth = 0.85\n",
    "\n",
    "names = ('Hypertension','Diabaties','Handicapped','Scholarshup', 'Alcoholism')\n",
    "plt.bar(r, noShowFemalePatient, color='#b5ffb9', edgecolor='white', width=barWidth)\n",
    "plt.bar(r, totalFemalePatient, bottom=noShowFemalePatient, color='#FFB6C1', edgecolor='white', width=barWidth)\n",
    "plt.xticks(r, names, rotation='vertical')\n",
    "plt.xlabel(\"Female Patients\")"
   ]
  },
  {
   "cell_type": "code",
   "execution_count": 111,
   "metadata": {},
   "outputs": [
    {
     "data": {
      "text/plain": [
       "Text(0.5,0,'males')"
      ]
     },
     "execution_count": 111,
     "metadata": {},
     "output_type": "execute_result"
    },
    {
     "data": {
      "image/png": "[encoded data removed]",
      "text/plain": [
       "<Figure size 432x288 with 1 Axes>"
      ]
     },
     "metadata": {
      "needs_background": "light"
     },
     "output_type": "display_data"
    }
   ],
   "source": [
    "plt.bar(r, noShowMalePatient, color='#b5ffb9', edgecolor='white', width=barWidth)\n",
    "plt.bar(r, totalMalePatient, bottom=noShowMalePatient, color='#6666ff', edgecolor='white', width=barWidth)\n",
    "plt.xticks(r, names, rotation='vertical')\n",
    "plt.xlabel(\"males\")"
   ]
  },
  {
   "cell_type": "code",
   "execution_count": 115,
   "metadata": {},
   "outputs": [],
   "source": [
    "female = [[noShowFemaleHyperTension, showFemalesHyperTension],\n",
    "       [noShowFemalediabetes, showFemalesdiabetes],\n",
    "       [noShowFemalehandicap, showFemaleshandicap],\n",
    "       [noShowFemalealcoholism,showFemalesalcoholism],\n",
    "       [noShowFemalescholarship, showFemalesscholarship]]\n",
    "male=[[noShowMalesHyperTension, showMalesHyperTension],\n",
    "     [noShowMalesdiabetes, showMalesdiabetes],\n",
    "     [noShowMaleshandicap, showMaleshandicap],\n",
    "     [noShowMalesalcoholism,showMalesalcoholism],\n",
    "     [noShowMalesscholarship, showMalesscholarship]]"
   ]
  },
  {
   "cell_type": "code",
   "execution_count": 114,
   "metadata": {
    "scrolled": true
   },
   "outputs": [
    {
     "data": {
      "text/plain": [
       "<matplotlib.axes._subplots.AxesSubplot at 0x120b32e8>"
      ]
     },
     "execution_count": 114,
     "metadata": {},
     "output_type": "execute_result"
    },
    {
     "data": {
      "image/png": "[encoded data removed]",
      "text/plain": [
       "<Figure size 432x288 with 1 Axes>"
      ]
     },
     "metadata": {
      "needs_background": "light"
     },
     "output_type": "display_data"
    }
   ],
   "source": [
    "def plot_clustered_stacked(dfall, labels=None, title=\"multiple stacked bar plot\",  H=\"/\", **kwargs):\n",
    "    n_df = len(dfall)\n",
    "    n_col = len(dfall[0].columns) \n",
    "    n_ind = len(dfall[0].index)\n",
    "    axe = plt.subplot(111)\n",
    "\n",
    "    for df in dfall : # for each data frame\n",
    "        axe = df.plot(kind=\"bar\",\n",
    "                      linewidth=0,\n",
    "                      stacked=True,\n",
    "                      ax=axe,\n",
    "                      legend=False,\n",
    "                      grid=False,\n",
    "                      **kwargs)  # make bar plots\n",
    "\n",
    "    h,l = axe.get_legend_handles_labels() # get the handles we want to modify\n",
    "    for i in range(0, n_df * n_col, n_col): # len(h) = n_col * n_df\n",
    "        for j, pa in enumerate(h[i:i+n_col]):\n",
    "            for rect in pa.patches: # for each index\n",
    "                rect.set_x(rect.get_x() + 1 / float(n_df + 1) * i / float(n_col))\n",
    "                rect.set_hatch(H * int(i / n_col)) #edited part     \n",
    "                rect.set_width(1 / float(n_df + 1))\n",
    "\n",
    "    axe.set_xticks((np.arange(0, 2 * n_ind, 2) + 1 / float(n_df + 1)) / 2.)\n",
    "    axe.set_xticklabels(df.index, rotation = 0)\n",
    "    axe.set_title(title)\n",
    "\n",
    "    # Add invisible data to add another legend\n",
    "    n=[]        \n",
    "    for i in range(n_df):\n",
    "        n.append(axe.bar(0, 0, color=\"gray\", hatch=H * i))\n",
    "\n",
    "    l1 = axe.legend(h[:n_col], l[:n_col], loc=[1.01, 0.5])\n",
    "    if labels is not None:\n",
    "        l2 = plt.legend(n, labels, loc=[1.01, 0.1]) \n",
    "    axe.add_artist(l1)\n",
    "    return axe\n",
    "\n",
    "# create dataframes\n",
    "df1_female = pd.DataFrame(female,\n",
    "                   index=['Hypertension','Diabaties','Handicapped','alcoholism','Scholarship'],\n",
    "                   columns=[\"noShow\", \"total\"])\n",
    "df2_male= pd.DataFrame(male,\n",
    "                   index=['Hypertension','Diabaties','Handicapped','alcoholism','Scholarship'],\n",
    "                   columns=[\"noShow\", \"total\"])\n",
    "\n",
    "# Then, just call :\n",
    "plot_clustered_stacked([df1_female, df2_male],[\"Female\", \"Male\"])\n"
   ]
  },
  {
   "cell_type": "markdown",
   "metadata": {},
   "source": [
    "### Conclusions:\n",
    "\n",
    "1.Analyzing the data show that Mean of the delay between scheduled and actual appointment is around 10 days.Various Factor are responsible for delay in appointment by pateint and delay the appointment by hospitals due to emergency case or their is lack of awarness regarding their health issues.\n",
    "\n",
    "2.PARQUE InDUSTRIAL show no delay while other neighbourhood show delay appointment.\n",
    "\n",
    "3.On the basis of gender more female is enrolled in Brasilian welfare program Bolsa Famílies scholarship than male.But over all Patient and enrolled scholarship ratio  is less.To increase the health awareness more welfare program should conducted.\n",
    "\n",
    "4.Only 1% patient received sms,more online model should be build and hospital also remind the patient appointment and On short duration new appointment given to who missed their appointment .\n",
    "\n",
    "5.0.3 % handicap send sms by hospital and approx 8% show delay in appointment.\n",
    "\n",
    "6.Female show more appointment than males.\n",
    "\n",
    "7.Hypertension and Diabetes patients are more in the sample population .\n"
   ]
  },
  {
   "cell_type": "markdown",
   "metadata": {},
   "source": [
    "## Reference:"
   ]
  },
  {
   "cell_type": "markdown",
   "metadata": {},
   "source": [
    ">https://stackoverflow.com/questions/44701926/title-for-side-by-side-pie-charts-in-matplotlib\n",
    ">https://stackoverflow.com/questions/22787209/how-to-have-clusters-of-stacked-bars-with-python-pandas"
   ]
  }
 ],
 "metadata": {
  "kernelspec": {
   "display_name": "Python 2",
   "language": "python",
   "name": "python2"
  },
  "language_info": {
   "codemirror_mode": {
    "name": "ipython",
    "version": 2
   },
   "file_extension": ".py",
   "mimetype": "text/x-python",
   "name": "python",
   "nbconvert_exporter": "python",
   "pygments_lexer": "ipython2",
   "version": "2.7.16"
  }
 },
 "nbformat": 4,
 "nbformat_minor": 2
}
